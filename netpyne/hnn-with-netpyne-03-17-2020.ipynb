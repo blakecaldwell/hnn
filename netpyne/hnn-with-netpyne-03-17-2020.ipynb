{
 "cells": [
  {
   "cell_type": "markdown",
   "metadata": {
    "slideshow": {
     "slide_type": "slide"
    }
   },
   "source": [
    "#  Using NetPyNE to run HNN model simulations"
   ]
  },
  {
   "cell_type": "markdown",
   "metadata": {
    "slideshow": {
     "slide_type": "slide"
    }
   },
   "source": [
    "We will use the simulation module part from NetPyNE. This will include functions to:\n",
    "\n",
    "1. create Neuron-Python objects to build the cells and networks\n",
    "2. prepare and start the Neuron solver\n",
    "3. call analysis (plotting) functions in NetPyNE"
   ]
  },
  {
   "cell_type": "code",
   "execution_count": 1,
   "metadata": {
    "slideshow": {
     "slide_type": "fragment"
    }
   },
   "outputs": [],
   "source": [
    "from netpyne import sim"
   ]
  },
  {
   "cell_type": "markdown",
   "metadata": {
    "slideshow": {
     "slide_type": "fragment"
    }
   },
   "source": [
    "Get a base configuration object from NetPyNE"
   ]
  },
  {
   "cell_type": "code",
   "execution_count": 2,
   "metadata": {
    "slideshow": {
     "slide_type": "fragment"
    }
   },
   "outputs": [],
   "source": [
    "from netpyne import specs\n",
    "cfg = specs.SimConfig()"
   ]
  },
  {
   "cell_type": "markdown",
   "metadata": {
    "slideshow": {
     "slide_type": "slide"
    }
   },
   "source": [
    "Salva wrote a helper function `setCfgFromFile` to turn a `.param` file into a NetPyNE `simConfig` object"
   ]
  },
  {
   "cell_type": "code",
   "execution_count": 4,
   "metadata": {
    "slideshow": {
     "slide_type": "fragment"
    }
   },
   "outputs": [],
   "source": [
    "from utils import setCfgFromFile"
   ]
  },
  {
   "cell_type": "code",
   "execution_count": 6,
   "metadata": {
    "slideshow": {
     "slide_type": "fragment"
    }
   },
   "outputs": [],
   "source": [
    "# Need to choose parameter file (ERP, Alpha/Beta, Gamma)\n",
    "# cfgFile = '../param/default.param'      # ERP\n",
    "cfgFile = '../param/AlphaAndBeta.param'         # Alpha and Beta\n",
    "# cfgFile = '../param/gamma_L5ping_L2ping.param'  # Gamma"
   ]
  },
  {
   "cell_type": "code",
   "execution_count": 7,
   "metadata": {
    "slideshow": {
     "slide_type": "slide"
    }
   },
   "outputs": [],
   "source": [
    "# cfg.py is a file in HNN-NetPyNE that will get run. Sets HNN specific base parameters\n",
    "from cfg import cfg"
   ]
  },
  {
   "cell_type": "code",
   "execution_count": 8,
   "metadata": {
    "slideshow": {
     "slide_type": "fragment"
    }
   },
   "outputs": [],
   "source": [
    "# Now create the simConfig object\n",
    "cfg = setCfgFromFile(cfgFile, cfg)"
   ]
  },
  {
   "cell_type": "markdown",
   "metadata": {
    "slideshow": {
     "slide_type": "slide"
    }
   },
   "source": [
    "Let's look at the `simConfig` object `cfg`"
   ]
  },
  {
   "cell_type": "code",
   "execution_count": 10,
   "metadata": {
    "slideshow": {
     "slide_type": "fragment"
    }
   },
   "outputs": [
    {
     "data": {
      "text/plain": [
       "netpyne.specs.simConfig.SimConfig"
      ]
     },
     "execution_count": 10,
     "metadata": {},
     "output_type": "execute_result"
    }
   ],
   "source": [
    "type(cfg)"
   ]
  },
  {
   "cell_type": "code",
   "execution_count": 11,
   "metadata": {
    "slideshow": {
     "slide_type": "fragment"
    }
   },
   "outputs": [
    {
     "data": {
      "text/plain": [
       "['EEgain',\n",
       " 'EIgain',\n",
       " 'IEgain',\n",
       " 'IIgain',\n",
       " 'Itonic_A_L2Basket',\n",
       " 'Itonic_A_L2Pyr_soma',\n",
       " 'Itonic_A_L5Basket',\n",
       " 'Itonic_A_L5Pyr_soma',\n",
       " 'Itonic_T_L2Basket',\n",
       " 'Itonic_T_L2Pyr_soma',\n",
       " 'Itonic_T_L5Basket',\n",
       " 'Itonic_T_L5Pyr_soma',\n",
       " 'Itonic_t0_L2Basket',\n",
       " 'Itonic_t0_L2Pyr_soma',\n",
       " 'Itonic_t0_L5Basket',\n",
       " 'Itonic_t0_L5Pyr_soma',\n",
       " 'L2Basket_Gauss_A_weight',\n",
       " 'L2Basket_Gauss_mu',\n",
       " 'L2Basket_Gauss_sigma',\n",
       " 'L2Basket_Pois_A_weight_ampa',\n",
       " 'L2Basket_Pois_A_weight_nmda',\n",
       " 'L2Basket_Pois_lamtha',\n",
       " 'L2Pyr_Gauss_A_weight',\n",
       " 'L2Pyr_Gauss_mu',\n",
       " 'L2Pyr_Gauss_sigma',\n",
       " 'L2Pyr_Pois_A_weight_ampa',\n",
       " 'L2Pyr_Pois_A_weight_nmda',\n",
       " 'L2Pyr_Pois_lamtha',\n",
       " 'L2Pyr_ampa_e',\n",
       " 'L2Pyr_ampa_tau1',\n",
       " 'L2Pyr_ampa_tau2',\n",
       " 'L2Pyr_apical1_L',\n",
       " 'L2Pyr_apical1_diam',\n",
       " 'L2Pyr_apicaloblique_L',\n",
       " 'L2Pyr_apicaloblique_diam',\n",
       " 'L2Pyr_apicaltrunk_L',\n",
       " 'L2Pyr_apicaltrunk_diam',\n",
       " 'L2Pyr_apicaltuft_L',\n",
       " 'L2Pyr_apicaltuft_diam',\n",
       " 'L2Pyr_basal1_L',\n",
       " 'L2Pyr_basal1_diam',\n",
       " 'L2Pyr_basal2_L',\n",
       " 'L2Pyr_basal2_diam',\n",
       " 'L2Pyr_basal3_L',\n",
       " 'L2Pyr_basal3_diam',\n",
       " 'L2Pyr_dend_Ra',\n",
       " 'L2Pyr_dend_cm',\n",
       " 'L2Pyr_dend_el_hh2',\n",
       " 'L2Pyr_dend_gbar_km',\n",
       " 'L2Pyr_dend_gkbar_hh2',\n",
       " 'L2Pyr_dend_gl_hh2',\n",
       " 'L2Pyr_dend_gnabar_hh2',\n",
       " 'L2Pyr_gabaa_e',\n",
       " 'L2Pyr_gabaa_tau1',\n",
       " 'L2Pyr_gabaa_tau2',\n",
       " 'L2Pyr_gabab_e',\n",
       " 'L2Pyr_gabab_tau1',\n",
       " 'L2Pyr_gabab_tau2',\n",
       " 'L2Pyr_nmda_e',\n",
       " 'L2Pyr_nmda_tau1',\n",
       " 'L2Pyr_nmda_tau2',\n",
       " 'L2Pyr_soma_L',\n",
       " 'L2Pyr_soma_Ra',\n",
       " 'L2Pyr_soma_cm',\n",
       " 'L2Pyr_soma_diam',\n",
       " 'L2Pyr_soma_el_hh2',\n",
       " 'L2Pyr_soma_gbar_km',\n",
       " 'L2Pyr_soma_gkbar_hh2',\n",
       " 'L2Pyr_soma_gl_hh2',\n",
       " 'L2Pyr_soma_gnabar_hh2',\n",
       " 'L5Basket_Gauss_A_weight',\n",
       " 'L5Basket_Gauss_mu',\n",
       " 'L5Basket_Gauss_sigma',\n",
       " 'L5Basket_Pois_A_weight_ampa',\n",
       " 'L5Basket_Pois_A_weight_nmda',\n",
       " 'L5Basket_Pois_lamtha',\n",
       " 'L5Pyr_Gauss_A_weight',\n",
       " 'L5Pyr_Gauss_mu',\n",
       " 'L5Pyr_Gauss_sigma',\n",
       " 'L5Pyr_Pois_A_weight_ampa',\n",
       " 'L5Pyr_Pois_A_weight_nmda',\n",
       " 'L5Pyr_Pois_lamtha',\n",
       " 'L5Pyr_ampa_e',\n",
       " 'L5Pyr_ampa_tau1',\n",
       " 'L5Pyr_ampa_tau2',\n",
       " 'L5Pyr_apical1_L',\n",
       " 'L5Pyr_apical1_diam',\n",
       " 'L5Pyr_apical2_L',\n",
       " 'L5Pyr_apical2_diam',\n",
       " 'L5Pyr_apicaloblique_L',\n",
       " 'L5Pyr_apicaloblique_diam',\n",
       " 'L5Pyr_apicaltrunk_L',\n",
       " 'L5Pyr_apicaltrunk_diam',\n",
       " 'L5Pyr_apicaltuft_L',\n",
       " 'L5Pyr_apicaltuft_diam',\n",
       " 'L5Pyr_basal1_L',\n",
       " 'L5Pyr_basal1_diam',\n",
       " 'L5Pyr_basal2_L',\n",
       " 'L5Pyr_basal2_diam',\n",
       " 'L5Pyr_basal3_L',\n",
       " 'L5Pyr_basal3_diam',\n",
       " 'L5Pyr_dend_Ra',\n",
       " 'L5Pyr_dend_cm',\n",
       " 'L5Pyr_dend_el_hh2',\n",
       " 'L5Pyr_dend_gbar_ar',\n",
       " 'L5Pyr_dend_gbar_ca',\n",
       " 'L5Pyr_dend_gbar_cat',\n",
       " 'L5Pyr_dend_gbar_kca',\n",
       " 'L5Pyr_dend_gbar_km',\n",
       " 'L5Pyr_dend_gkbar_hh2',\n",
       " 'L5Pyr_dend_gl_hh2',\n",
       " 'L5Pyr_dend_gnabar_hh2',\n",
       " 'L5Pyr_dend_taur_cad',\n",
       " 'L5Pyr_gabaa_e',\n",
       " 'L5Pyr_gabaa_tau1',\n",
       " 'L5Pyr_gabaa_tau2',\n",
       " 'L5Pyr_gabab_e',\n",
       " 'L5Pyr_gabab_tau1',\n",
       " 'L5Pyr_gabab_tau2',\n",
       " 'L5Pyr_nmda_e',\n",
       " 'L5Pyr_nmda_tau1',\n",
       " 'L5Pyr_nmda_tau2',\n",
       " 'L5Pyr_soma_L',\n",
       " 'L5Pyr_soma_Ra',\n",
       " 'L5Pyr_soma_cm',\n",
       " 'L5Pyr_soma_diam',\n",
       " 'L5Pyr_soma_el_hh2',\n",
       " 'L5Pyr_soma_gbar_ar',\n",
       " 'L5Pyr_soma_gbar_ca',\n",
       " 'L5Pyr_soma_gbar_cat',\n",
       " 'L5Pyr_soma_gbar_kca',\n",
       " 'L5Pyr_soma_gbar_km',\n",
       " 'L5Pyr_soma_gkbar_hh2',\n",
       " 'L5Pyr_soma_gl_hh2',\n",
       " 'L5Pyr_soma_gnabar_hh2',\n",
       " 'L5Pyr_soma_taur_cad',\n",
       " 'N_pyr_x',\n",
       " 'N_pyr_y',\n",
       " 'N_trials',\n",
       " 'T_pois',\n",
       " '__class__',\n",
       " '__delattr__',\n",
       " '__dict__',\n",
       " '__dir__',\n",
       " '__doc__',\n",
       " '__eq__',\n",
       " '__format__',\n",
       " '__ge__',\n",
       " '__getattribute__',\n",
       " '__gt__',\n",
       " '__hash__',\n",
       " '__init__',\n",
       " '__init_subclass__',\n",
       " '__le__',\n",
       " '__lt__',\n",
       " '__module__',\n",
       " '__ne__',\n",
       " '__new__',\n",
       " '__reduce__',\n",
       " '__reduce_ex__',\n",
       " '__repr__',\n",
       " '__setattr__',\n",
       " '__sizeof__',\n",
       " '__str__',\n",
       " '__subclasshook__',\n",
       " '__weakref__',\n",
       " 'addAnalysis',\n",
       " 'addSynMechs',\n",
       " 'allowConnsWithWeight0',\n",
       " 'allowSelfConns',\n",
       " 'analysis',\n",
       " 'backupCfgFile',\n",
       " 'cache_efficient',\n",
       " 'celsius',\n",
       " 'checkErrors',\n",
       " 'checkErrorsVerbose',\n",
       " 'compactConnFormat',\n",
       " 'connRandomSecFromList',\n",
       " 'createNEURONObj',\n",
       " 'createPyStruct',\n",
       " 'cvode_active',\n",
       " 'cvode_atol',\n",
       " 'dipole_scalefctr',\n",
       " 'dipole_smooth_win',\n",
       " 'distributeSynsUniformly',\n",
       " 'distribution_dist',\n",
       " 'distribution_prox',\n",
       " 'dt',\n",
       " 'dt_evprox0_evdist',\n",
       " 'dt_evprox0_evprox1',\n",
       " 'duration',\n",
       " 'events_per_cycle_dist',\n",
       " 'events_per_cycle_prox',\n",
       " 'evokedInputs',\n",
       " 'expmt_groups',\n",
       " 'f_input_dist',\n",
       " 'f_input_prox',\n",
       " 'f_max_spec',\n",
       " 'f_stdev_dist',\n",
       " 'f_stdev_prox',\n",
       " 'filename',\n",
       " 'gatherOnlySimData',\n",
       " 'gaussInputs',\n",
       " 'gbar_L2Basket_L2Basket',\n",
       " 'gbar_L2Basket_L2Pyr_gabaa',\n",
       " 'gbar_L2Basket_L2Pyr_gabab',\n",
       " 'gbar_L2Basket_L5Pyr',\n",
       " 'gbar_L2Pyr_L2Basket',\n",
       " 'gbar_L2Pyr_L2Pyr_ampa',\n",
       " 'gbar_L2Pyr_L2Pyr_nmda',\n",
       " 'gbar_L2Pyr_L5Basket',\n",
       " 'gbar_L2Pyr_L5Pyr',\n",
       " 'gbar_L5Basket_L5Basket',\n",
       " 'gbar_L5Basket_L5Pyr_gabaa',\n",
       " 'gbar_L5Basket_L5Pyr_gabab',\n",
       " 'gbar_L5Pyr_L5Basket',\n",
       " 'gbar_L5Pyr_L5Pyr_ampa',\n",
       " 'gbar_L5Pyr_L5Pyr_nmda',\n",
       " 'gbar_evdist_1_L2Basket_ampa',\n",
       " 'gbar_evdist_1_L2Basket_nmda',\n",
       " 'gbar_evdist_1_L2Pyr_ampa',\n",
       " 'gbar_evdist_1_L2Pyr_nmda',\n",
       " 'gbar_evdist_1_L5Pyr_ampa',\n",
       " 'gbar_evdist_1_L5Pyr_nmda',\n",
       " 'gbar_evprox_1_L2Basket_ampa',\n",
       " 'gbar_evprox_1_L2Basket_nmda',\n",
       " 'gbar_evprox_1_L2Pyr_ampa',\n",
       " 'gbar_evprox_1_L2Pyr_nmda',\n",
       " 'gbar_evprox_1_L5Basket_ampa',\n",
       " 'gbar_evprox_1_L5Basket_nmda',\n",
       " 'gbar_evprox_1_L5Pyr_ampa',\n",
       " 'gbar_evprox_1_L5Pyr_nmda',\n",
       " 'gbar_evprox_2_L2Basket_ampa',\n",
       " 'gbar_evprox_2_L2Basket_nmda',\n",
       " 'gbar_evprox_2_L2Pyr_ampa',\n",
       " 'gbar_evprox_2_L2Pyr_nmda',\n",
       " 'gbar_evprox_2_L5Basket_ampa',\n",
       " 'gbar_evprox_2_L5Basket_nmda',\n",
       " 'gbar_evprox_2_L5Pyr_ampa',\n",
       " 'gbar_evprox_2_L5Pyr_nmda',\n",
       " 'gridSpacingBasket',\n",
       " 'gridSpacingPyr',\n",
       " 'hParams',\n",
       " 'inc_evinput',\n",
       " 'includeParamsLabel',\n",
       " 'input_dist_A_delay_L2',\n",
       " 'input_dist_A_delay_L5',\n",
       " 'input_dist_A_weight_L2Basket_ampa',\n",
       " 'input_dist_A_weight_L2Basket_nmda',\n",
       " 'input_dist_A_weight_L2Pyr_ampa',\n",
       " 'input_dist_A_weight_L2Pyr_nmda',\n",
       " 'input_dist_A_weight_L5Pyr_ampa',\n",
       " 'input_dist_A_weight_L5Pyr_nmda',\n",
       " 'input_prox_A_delay_L2',\n",
       " 'input_prox_A_delay_L5',\n",
       " 'input_prox_A_weight_L2Basket_ampa',\n",
       " 'input_prox_A_weight_L2Basket_nmda',\n",
       " 'input_prox_A_weight_L2Pyr_ampa',\n",
       " 'input_prox_A_weight_L2Pyr_nmda',\n",
       " 'input_prox_A_weight_L5Basket_ampa',\n",
       " 'input_prox_A_weight_L5Basket_nmda',\n",
       " 'input_prox_A_weight_L5Pyr_ampa',\n",
       " 'input_prox_A_weight_L5Pyr_nmda',\n",
       " 'invertedYCoord',\n",
       " 'localConn',\n",
       " 'numspikes_evdist_1',\n",
       " 'numspikes_evprox_1',\n",
       " 'numspikes_evprox_2',\n",
       " 'oneSynPerNetcon',\n",
       " 'poissonInputs',\n",
       " 'printPopAvgRates',\n",
       " 'printRunTime',\n",
       " 'printSynsAfterRule',\n",
       " 'prng_seedcore_evdist_1',\n",
       " 'prng_seedcore_evdist_2',\n",
       " 'prng_seedcore_evprox_1',\n",
       " 'prng_seedcore_evprox_2',\n",
       " 'prng_seedcore_extgauss',\n",
       " 'prng_seedcore_extpois',\n",
       " 'prng_seedcore_input_dist',\n",
       " 'prng_seedcore_input_prox',\n",
       " 'prng_state',\n",
       " 'pt3dRelativeToCellLocation',\n",
       " 'rand123GlobalIndex',\n",
       " 'recordCells',\n",
       " 'recordCellsSpikes',\n",
       " 'recordDipoles',\n",
       " 'recordLFP',\n",
       " 'recordStep',\n",
       " 'recordStim',\n",
       " 'recordStims',\n",
       " 'recordTime',\n",
       " 'recordTraces',\n",
       " 'repeats_dist',\n",
       " 'repeats_prox',\n",
       " 'rhythmicInputs',\n",
       " 'save',\n",
       " 'saveCSV',\n",
       " 'saveCellConns',\n",
       " 'saveCellSecs',\n",
       " 'saveDat',\n",
       " 'saveDataInclude',\n",
       " 'saveDpk',\n",
       " 'saveFolder',\n",
       " 'saveHDF5',\n",
       " 'saveJson',\n",
       " 'saveLFPCells',\n",
       " 'saveMat',\n",
       " 'savePickle',\n",
       " 'saveTiming',\n",
       " 'save_figs',\n",
       " 'save_spec_data',\n",
       " 'save_vsoma',\n",
       " 'seeds',\n",
       " 'sigma_t_evdist_1',\n",
       " 'sigma_t_evprox_1',\n",
       " 'sigma_t_evprox_2',\n",
       " 'simLabel',\n",
       " 'sim_prefix',\n",
       " 'sizeY',\n",
       " 'sync_evinput',\n",
       " 't0_input_dist',\n",
       " 't0_input_prox',\n",
       " 't0_input_stdev_dist',\n",
       " 't0_input_stdev_prox',\n",
       " 't0_pois',\n",
       " 't_evdist_1',\n",
       " 't_evprox_1',\n",
       " 't_evprox_2',\n",
       " 'threshold',\n",
       " 'timestampFilename',\n",
       " 'timing',\n",
       " 'todict',\n",
       " 'tonicInputs',\n",
       " 'tstop',\n",
       " 'tstop_input_dist',\n",
       " 'tstop_input_prox',\n",
       " 'verbose',\n",
       " 'xzScaling']"
      ]
     },
     "execution_count": 11,
     "metadata": {},
     "output_type": "execute_result"
    }
   ],
   "source": [
    "dir(cfg)"
   ]
  },
  {
   "cell_type": "code",
   "execution_count": null,
   "metadata": {
    "slideshow": {
     "slide_type": "fragment"
    }
   },
   "outputs": [],
   "source": [
    "print(cfg.duration)\n",
    "print(cfg.celsius)\n",
    "print(cfg.f_input_prox)\n",
    "print(cfg.input_prox_A_weight_L5Pyr_ampa)\n",
    "print(cfg.allowSelfConns)"
   ]
  },
  {
   "cell_type": "code",
   "execution_count": null,
   "metadata": {
    "slideshow": {
     "slide_type": "fragment"
    }
   },
   "outputs": [],
   "source": [
    "cfg.analysis.keys()"
   ]
  },
  {
   "cell_type": "code",
   "execution_count": null,
   "metadata": {
    "slideshow": {
     "slide_type": "fragment"
    }
   },
   "outputs": [],
   "source": [
    "cfg.savePickle"
   ]
  },
  {
   "cell_type": "markdown",
   "metadata": {
    "slideshow": {
     "slide_type": "slide"
    }
   },
   "source": [
    "Next we need to create a NetPyNE netParams object from `cfg`."
   ]
  },
  {
   "cell_type": "code",
   "execution_count": 12,
   "metadata": {
    "slideshow": {
     "slide_type": "fragment"
    }
   },
   "outputs": [],
   "source": [
    "# netParams.py is a file in HNN-NetPyNE that will get run. Expects cfg to already exist!\n",
    "from netParams import netParams"
   ]
  },
  {
   "cell_type": "markdown",
   "metadata": {
    "slideshow": {
     "slide_type": "slide"
    }
   },
   "source": [
    "Run the simulation"
   ]
  },
  {
   "cell_type": "code",
   "execution_count": 13,
   "metadata": {
    "slideshow": {
     "slide_type": "fragment"
    }
   },
   "outputs": [
    {
     "name": "stdout",
     "output_type": "stream",
     "text": [
      "\n",
      "Start time:  2020-03-17 11:33:55.375139\n",
      "\n",
      "Creating network of 24 cell populations on 1 hosts...\n",
      "  Number of cells on node 0: 1088 \n",
      "  Done; cell creation time = 0.85 s.\n",
      "Making connections...\n",
      "  Number of connections on node 0: 53580 \n",
      "  Number of synaptic contacts on node 0: 189980 \n",
      "  Done; cell connection time = 7.26 s.\n",
      "Adding stims...\n",
      "  Number of stims on node 0: 270 \n",
      "  Done; cell stims creation time = 0.01 s.\n",
      "Recording 4 traces of 1 types on node 0\n",
      "0s\n",
      "\n",
      "Running simulation for 710.0 ms...\n",
      "0.1s\n",
      "0.2s\n",
      "0.3s\n",
      "0.4s\n",
      "0.5s\n",
      "0.6s\n",
      "0.7s\n",
      "  Done; run time = 120.50 s; real-time ratio: 0.01.\n",
      "\n",
      "Gathering data...\n",
      "  Done; gather time = 3.32 s.\n",
      "\n",
      "Analyzing...\n",
      "  Cells: 1088\n",
      "  Connections: 53580 (49.25 per cell)\n",
      "  Synaptic contacts: 189980 (174.61 per cell)\n",
      "  Spikes: 280 (0.36 Hz)\n",
      "   L2Basket : 0.000 Hz\n",
      "   L2Pyr : 0.000 Hz\n",
      "   L5Basket : 0.000 Hz\n",
      "   L5Pyr : 0.000 Hz\n",
      "   extRhythmicProximal : 197.183 Hz\n",
      "   extRhythmicDistal : 197.183 Hz\n",
      "   evokedProximal_1_L2Basket : 0.000 Hz\n",
      "   evokedProximal_1_L2Pyr : 0.000 Hz\n",
      "   evokedProximal_1_L5Basket : 0.000 Hz\n",
      "   evokedProximal_1_L5Pyr : 0.000 Hz\n",
      "   evokedProximal_2_L2Basket : 0.000 Hz\n",
      "   evokedProximal_2_L2Pyr : 0.000 Hz\n",
      "   evokedProximal_2_L5Basket : 0.000 Hz\n",
      "   evokedProximal_2_L5Pyr : 0.000 Hz\n",
      "   evokedDistal_1_L2Basket : 0.000 Hz\n",
      "   evokedDistal_1_L2Pyr : 0.000 Hz\n",
      "   evokedDistal_1_L5Basket : 0.000 Hz\n",
      "   evokedDistal_1_L5Pyr : 0.000 Hz\n",
      "   extPoisson_L2Pyr : 0.000 Hz\n",
      "   extPoisson_L5Pyr : 0.000 Hz\n",
      "   extPoisson_L2Basket : 0.000 Hz\n",
      "   extPoisson_L5Basket : 0.000 Hz\n",
      "   extGauss_L2Pyr : 0.000 Hz\n",
      "   extGauss_L5Pyr : 0.000 Hz\n",
      "  Simulated time: 0.7 s; 1 workers\n",
      "  Run time: 120.50 s\n"
     ]
    }
   ],
   "source": [
    "sim.createSimulate(simConfig=cfg, netParams=netParams)"
   ]
  },
  {
   "cell_type": "markdown",
   "metadata": {
    "slideshow": {
     "slide_type": "slide"
    }
   },
   "source": [
    "Let's look at netParams..."
   ]
  },
  {
   "cell_type": "markdown",
   "metadata": {
    "slideshow": {
     "slide_type": "fragment"
    }
   },
   "source": [
    "<img src=\"http://netpyne.org/_images/netparams.png\" width=\"800\"></img>"
   ]
  },
  {
   "cell_type": "markdown",
   "metadata": {
    "slideshow": {
     "slide_type": "slide"
    }
   },
   "source": [
    "First `popParams`"
   ]
  },
  {
   "cell_type": "code",
   "execution_count": 14,
   "metadata": {
    "slideshow": {
     "slide_type": "fragment"
    }
   },
   "outputs": [],
   "source": [
    "# helper stuff\n",
    "import pprint\n",
    "pp = pprint.PrettyPrinter(indent=2)"
   ]
  },
  {
   "cell_type": "code",
   "execution_count": 17,
   "metadata": {
    "slideshow": {
     "slide_type": "fragment"
    }
   },
   "outputs": [
    {
     "data": {
      "text/plain": [
       "['__class__',\n",
       " '__contains__',\n",
       " '__delattr__',\n",
       " '__delitem__',\n",
       " '__dict__',\n",
       " '__dir__',\n",
       " '__doc__',\n",
       " '__eq__',\n",
       " '__format__',\n",
       " '__ge__',\n",
       " '__getattr__',\n",
       " '__getattribute__',\n",
       " '__getitem__',\n",
       " '__getstate__',\n",
       " '__gt__',\n",
       " '__hash__',\n",
       " '__init__',\n",
       " '__init_subclass__',\n",
       " '__iter__',\n",
       " '__le__',\n",
       " '__len__',\n",
       " '__lt__',\n",
       " '__module__',\n",
       " '__ne__',\n",
       " '__new__',\n",
       " '__reduce__',\n",
       " '__reduce_ex__',\n",
       " '__rename__',\n",
       " '__repr__',\n",
       " '__reversed__',\n",
       " '__setattr__',\n",
       " '__setitem__',\n",
       " '__setstate__',\n",
       " '__sizeof__',\n",
       " '__slots__',\n",
       " '__str__',\n",
       " '__subclasshook__',\n",
       " 'clear',\n",
       " 'copy',\n",
       " 'dotify',\n",
       " 'fromOrderedDict',\n",
       " 'fromkeys',\n",
       " 'get',\n",
       " 'items',\n",
       " 'keys',\n",
       " 'move_to_end',\n",
       " 'pop',\n",
       " 'popitem',\n",
       " 'rename',\n",
       " 'setParam',\n",
       " 'setdefault',\n",
       " 'toOrderedDict',\n",
       " 'undotify',\n",
       " 'update',\n",
       " 'values']"
      ]
     },
     "execution_count": 17,
     "metadata": {},
     "output_type": "execute_result"
    }
   ],
   "source": [
    "pp.pprint(netParams.popParams)\n",
    "dir(netParams.popParams)"
   ]
  },
  {
   "cell_type": "markdown",
   "metadata": {
    "slideshow": {
     "slide_type": "slide"
    }
   },
   "source": [
    "Now `cellParams`"
   ]
  },
  {
   "cell_type": "code",
   "execution_count": 19,
   "metadata": {
    "slideshow": {
     "slide_type": "fragment"
    }
   },
   "outputs": [
    {
     "name": "stdout",
     "output_type": "stream",
     "text": [
      "{ 'L2Basket_rule': { 'conds': {'cellType': 'L2Basket'},\n",
      "                     'secs': { 'soma': { 'geom': { 'L': 39.0,\n",
      "                                                   'Ra': 200.0,\n",
      "                                                   'cm': 0.85,\n",
      "                                                   'diam': 20.0,\n",
      "                                                   'nseg': 1},\n",
      "                                         'ions': { 'k': { 'e': -77.0,\n",
      "                                                          'i': 54.4,\n",
      "                                                          'o': 2.5},\n",
      "                                                   'na': { 'e': 50.0,\n",
      "                                                           'i': 10.0,\n",
      "                                                           'o': 140.0}},\n",
      "                                         'mechs': { 'hh2': { 'el': -54.3,\n",
      "                                                             'gkbar': 0.036,\n",
      "                                                             'gl': 0.0003,\n",
      "                                                             'gnabar': 0.12}},\n",
      "                                         'topol': {},\n",
      "                                         'vinit': -64.9737}}},\n",
      "  'L2Pyr_rule': { 'conds': {'cellType': 'L2Pyr'},\n",
      "                  'secLists': { 'apical': [ 'apical_trunk',\n",
      "                                            'apical_1',\n",
      "                                            'apical_tuft',\n",
      "                                            'apical_oblique'],\n",
      "                                'basal': ['basal_1', 'basal_2', 'basal_3']},\n",
      "                  'secs': { 'apical_1': { 'geom': { 'L': 306.0,\n",
      "                                                    'Ra': 200.0,\n",
      "                                                    'cm': 0.6195,\n",
      "                                                    'diam': 4.08,\n",
      "                                                    'nseg': 7,\n",
      "                                                    'pt3d': [ [ 0.0,\n",
      "                                                                48.0,\n",
      "                                                                0.0,\n",
      "                                                                4.08],\n",
      "                                                              [ 0.0,\n",
      "                                                                354.0,\n",
      "                                                                0.0,\n",
      "                                                                4.08]]},\n",
      "                                          'ions': { 'k': { 'e': -77.0,\n",
      "                                                           'i': 54.4,\n",
      "                                                           'o': 2.5},\n",
      "                                                    'na': { 'e': 50.0,\n",
      "                                                            'i': 10.0,\n",
      "                                                            'o': 140.0}},\n",
      "                                          'mechs': { 'dipole': {},\n",
      "                                                     'hh2': { 'el': -65.0,\n",
      "                                                              'gkbar': 0.01,\n",
      "                                                              'gl': 4.26e-05,\n",
      "                                                              'gnabar': 0.15},\n",
      "                                                     'km': {'gbar': 250.0}},\n",
      "                                          'topol': { 'childX': 0.0,\n",
      "                                                     'parentSec': 'apical_trunk',\n",
      "                                                     'parentX': 1.0},\n",
      "                                          'vinit': -71.46},\n",
      "                            'apical_oblique': { 'geom': { 'L': 340.0,\n",
      "                                                          'Ra': 200.0,\n",
      "                                                          'cm': 0.6195,\n",
      "                                                          'diam': 3.91,\n",
      "                                                          'nseg': 7,\n",
      "                                                          'pt3d': [ [ 0.0,\n",
      "                                                                      48.0,\n",
      "                                                                      0.0,\n",
      "                                                                      3.91],\n",
      "                                                                    [ -340.0,\n",
      "                                                                      48.0,\n",
      "                                                                      0.0,\n",
      "                                                                      3.91]]},\n",
      "                                                'ions': { 'k': { 'e': -77.0,\n",
      "                                                                 'i': 54.4,\n",
      "                                                                 'o': 2.5},\n",
      "                                                          'na': { 'e': 50.0,\n",
      "                                                                  'i': 10.0,\n",
      "                                                                  'o': 140.0}},\n",
      "                                                'mechs': { 'dipole': {},\n",
      "                                                           'hh2': { 'el': -65.0,\n",
      "                                                                    'gkbar': 0.01,\n",
      "                                                                    'gl': 4.26e-05,\n",
      "                                                                    'gnabar': 0.15},\n",
      "                                                           'km': { 'gbar': 250.0}},\n",
      "                                                'topol': { 'childX': 0.0,\n",
      "                                                           'parentSec': 'apical_trunk',\n",
      "                                                           'parentX': 1.0},\n",
      "                                                'vinit': -71.46},\n",
      "                            'apical_trunk': { 'geom': { 'L': 59.5,\n",
      "                                                        'Ra': 200.0,\n",
      "                                                        'cm': 0.6195,\n",
      "                                                        'diam': 4.25,\n",
      "                                                        'nseg': 1,\n",
      "                                                        'pt3d': [ [ 0.0,\n",
      "                                                                    13.0,\n",
      "                                                                    0.0,\n",
      "                                                                    4.25],\n",
      "                                                                  [ 0.0,\n",
      "                                                                    72.5,\n",
      "                                                                    0.0,\n",
      "                                                                    4.25]]},\n",
      "                                              'ions': { 'k': { 'e': -77.0,\n",
      "                                                               'i': 54.4,\n",
      "                                                               'o': 2.5},\n",
      "                                                        'na': { 'e': 50.0,\n",
      "                                                                'i': 10.0,\n",
      "                                                                'o': 140.0}},\n",
      "                                              'mechs': { 'dipole': {},\n",
      "                                                         'hh2': { 'el': -65.0,\n",
      "                                                                  'gkbar': 0.01,\n",
      "                                                                  'gl': 4.26e-05,\n",
      "                                                                  'gnabar': 0.15},\n",
      "                                                         'km': {'gbar': 250.0}},\n",
      "                                              'topol': { 'childX': 0.0,\n",
      "                                                         'parentSec': 'soma',\n",
      "                                                         'parentX': 1.0},\n",
      "                                              'vinit': -71.46},\n",
      "                            'apical_tuft': { 'geom': { 'L': 238.0,\n",
      "                                                       'Ra': 200.0,\n",
      "                                                       'cm': 0.6195,\n",
      "                                                       'diam': 3.4,\n",
      "                                                       'nseg': 5,\n",
      "                                                       'pt3d': [ [ 0.0,\n",
      "                                                                   228.0,\n",
      "                                                                   0.0,\n",
      "                                                                   3.4],\n",
      "                                                                 [ 0.0,\n",
      "                                                                   466.0,\n",
      "                                                                   0.0,\n",
      "                                                                   3.4]]},\n",
      "                                             'ions': { 'k': { 'e': -77.0,\n",
      "                                                              'i': 54.4,\n",
      "                                                              'o': 2.5},\n",
      "                                                       'na': { 'e': 50.0,\n",
      "                                                               'i': 10.0,\n",
      "                                                               'o': 140.0}},\n",
      "                                             'mechs': { 'dipole': {},\n",
      "                                                        'hh2': { 'el': -65.0,\n",
      "                                                                 'gkbar': 0.01,\n",
      "                                                                 'gl': 4.26e-05,\n",
      "                                                                 'gnabar': 0.15},\n",
      "                                                        'km': {'gbar': 250.0}},\n",
      "                                             'topol': { 'childX': 0.0,\n",
      "                                                        'parentSec': 'apical_1',\n",
      "                                                        'parentX': 1.0},\n",
      "                                             'vinit': -71.46},\n",
      "                            'basal_1': { 'geom': { 'L': 85.0,\n",
      "                                                   'Ra': 200.0,\n",
      "                                                   'cm': 0.6195,\n",
      "                                                   'diam': 4.25,\n",
      "                                                   'nseg': 1,\n",
      "                                                   'pt3d': [ [ 0.0,\n",
      "                                                               0.0,\n",
      "                                                               0.0,\n",
      "                                                               4.25],\n",
      "                                                             [ 0.0,\n",
      "                                                               -85.0,\n",
      "                                                               0.0,\n",
      "                                                               4.25]]},\n",
      "                                         'ions': { 'k': { 'e': -77.0,\n",
      "                                                          'i': 54.4,\n",
      "                                                          'o': 2.5},\n",
      "                                                   'na': { 'e': 50.0,\n",
      "                                                           'i': 10.0,\n",
      "                                                           'o': 140.0}},\n",
      "                                         'mechs': { 'dipole': {},\n",
      "                                                    'hh2': { 'el': -65.0,\n",
      "                                                             'gkbar': 0.01,\n",
      "                                                             'gl': 4.26e-05,\n",
      "                                                             'gnabar': 0.15},\n",
      "                                                    'km': {'gbar': 250.0}},\n",
      "                                         'topol': { 'childX': 0.0,\n",
      "                                                    'parentSec': 'soma',\n",
      "                                                    'parentX': 0.0},\n",
      "                                         'vinit': -71.46},\n",
      "                            'basal_2': { 'geom': { 'L': 255.0,\n",
      "                                                   'Ra': 200.0,\n",
      "                                                   'cm': 0.6195,\n",
      "                                                   'diam': 2.72,\n",
      "                                                   'nseg': 5,\n",
      "                                                   'pt3d': [ [ 0.0,\n",
      "                                                               -50.0,\n",
      "                                                               0.0,\n",
      "                                                               2.72],\n",
      "                                                             [ -180.3122292025696,\n",
      "                                                               -230.3122292025696,\n",
      "                                                               0.0,\n",
      "                                                               2.72]]},\n",
      "                                         'ions': { 'k': { 'e': -77.0,\n",
      "                                                          'i': 54.4,\n",
      "                                                          'o': 2.5},\n",
      "                                                   'na': { 'e': 50.0,\n",
      "                                                           'i': 10.0,\n",
      "                                                           'o': 140.0}},\n",
      "                                         'mechs': { 'dipole': {},\n",
      "                                                    'hh2': { 'el': -65.0,\n",
      "                                                             'gkbar': 0.01,\n",
      "                                                             'gl': 4.26e-05,\n",
      "                                                             'gnabar': 0.15},\n",
      "                                                    'km': {'gbar': 250.0}},\n",
      "                                         'topol': { 'childX': 0.0,\n",
      "                                                    'parentSec': 'basal_1',\n",
      "                                                    'parentX': 1.0},\n",
      "                                         'vinit': -71.46},\n",
      "                            'basal_3': { 'geom': { 'L': 255.0,\n",
      "                                                   'Ra': 200.0,\n",
      "                                                   'cm': 0.6195,\n",
      "                                                   'diam': 2.72,\n",
      "                                                   'nseg': 5,\n",
      "                                                   'pt3d': [ [ 0.0,\n",
      "                                                               -50.0,\n",
      "                                                               0.0,\n",
      "                                                               2.72],\n",
      "                                                             [ 180.3122292025696,\n",
      "                                                               -230.3122292025696,\n",
      "                                                               0.0,\n",
      "                                                               2.72]]},\n",
      "                                         'ions': { 'k': { 'e': -77.0,\n",
      "                                                          'i': 54.4,\n",
      "                                                          'o': 2.5},\n",
      "                                                   'na': { 'e': 50.0,\n",
      "                                                           'i': 10.0,\n",
      "                                                           'o': 140.0}},\n",
      "                                         'mechs': { 'dipole': {},\n",
      "                                                    'hh2': { 'el': -65.0,\n",
      "                                                             'gkbar': 0.01,\n",
      "                                                             'gl': 4.26e-05,\n",
      "                                                             'gnabar': 0.15},\n",
      "                                                    'km': {'gbar': 250.0}},\n",
      "                                         'topol': { 'childX': 0.0,\n",
      "                                                    'parentSec': 'basal_1',\n",
      "                                                    'parentX': 1.0},\n",
      "                                         'vinit': -71.46},\n",
      "                            'soma': { 'geom': { 'L': 22.1,\n",
      "                                                'Ra': 200.0,\n",
      "                                                'cm': 0.6195,\n",
      "                                                'diam': 23.4,\n",
      "                                                'nseg': 1,\n",
      "                                                'pt3d': [ [0.0, 0.0, 0.0, 23.4],\n",
      "                                                          [ 0.0,\n",
      "                                                            22.1,\n",
      "                                                            0.0,\n",
      "                                                            23.4]]},\n",
      "                                      'ions': { 'k': { 'e': -77.0,\n",
      "                                                       'i': 54.4,\n",
      "                                                       'o': 2.5},\n",
      "                                                'na': { 'e': 50.0,\n",
      "                                                        'i': 10.0,\n",
      "                                                        'o': 140.0}},\n",
      "                                      'mechs': { 'dipole': {},\n",
      "                                                 'hh2': { 'el': -65.0,\n",
      "                                                          'gkbar': 0.01,\n",
      "                                                          'gl': 4.26e-05,\n",
      "                                                          'gnabar': 0.18},\n",
      "                                                 'km': {'gbar': 250.0}},\n",
      "                                      'topol': {},\n",
      "                                      'vinit': -71.46}}},\n",
      "  'L5Basket_rule': { 'conds': {'cellType': 'L5Basket'},\n",
      "                     'secs': { 'soma': { 'geom': { 'L': 39.0,\n",
      "                                                   'Ra': 200.0,\n",
      "                                                   'cm': 0.85,\n",
      "                                                   'diam': 20.0,\n",
      "                                                   'nseg': 1},\n",
      "                                         'ions': { 'k': { 'e': -77.0,\n",
      "                                                          'i': 54.4,\n",
      "                                                          'o': 2.5},\n",
      "                                                   'na': { 'e': 50.0,\n",
      "                                                           'i': 10.0,\n",
      "                                                           'o': 140.0}},\n",
      "                                         'mechs': { 'hh2': { 'el': -54.3,\n",
      "                                                             'gkbar': 0.036,\n",
      "                                                             'gl': 0.0003,\n",
      "                                                             'gnabar': 0.12}},\n",
      "                                         'topol': {},\n",
      "                                         'vinit': -64.9737}}},\n",
      "  'L5Pyr_rule': { 'conds': {'cellType': 'L5Pyr'},\n",
      "                  'secLists': { 'apical': [ 'apical_trunk',\n",
      "                                            'apical_1',\n",
      "                                            'apical_2',\n",
      "                                            'apical_tuft',\n",
      "                                            'apical_oblique'],\n",
      "                                'basal': ['basal_1', 'basal_2', 'basal_3']},\n",
      "                  'secs': { 'apical_1': { 'geom': { 'L': 680.0,\n",
      "                                                    'Ra': 200.0,\n",
      "                                                    'cm': 0.85,\n",
      "                                                    'diam': 7.48,\n",
      "                                                    'nseg': 13,\n",
      "                                                    'pt3d': [ [ 0.0,\n",
      "                                                                83.0,\n",
      "                                                                0.0,\n",
      "                                                                7.48],\n",
      "                                                              [ 0.0,\n",
      "                                                                763.0,\n",
      "                                                                0.0,\n",
      "                                                                7.48]]},\n",
      "                                          'ions': { 'ca': { 'e': 132.4579341637009,\n",
      "                                                            'i': 5e-05,\n",
      "                                                            'o': 2.0},\n",
      "                                                    'k': { 'e': -77.0,\n",
      "                                                           'i': 54.4,\n",
      "                                                           'o': 2.5},\n",
      "                                                    'na': { 'e': 50.0,\n",
      "                                                            'i': 10.0,\n",
      "                                                            'o': 140.0}},\n",
      "                                          'mechs': { 'ar': { 'gbar': [ 1.6511327e-06,\n",
      "                                                                       1.9316694e-06,\n",
      "                                                                       2.2598709e-06,\n",
      "                                                                       2.6438357e-06,\n",
      "                                                                       3.0930382e-06,\n",
      "                                                                       3.6185628e-06,\n",
      "                                                                       4.2333769e-06,\n",
      "                                                                       4.9526514e-06,\n",
      "                                                                       5.7941347e-06,\n",
      "                                                                       6.7785908e-06,\n",
      "                                                                       7.9303114e-06,\n",
      "                                                                       9.2777159e-06,\n",
      "                                                                       1.0854052e-05]},\n",
      "                                                     'ca': {'gbar': 60.0},\n",
      "                                                     'cad': {'taur': 20.0},\n",
      "                                                     'cat': {'gbar': 0.0002},\n",
      "                                                     'dipole': {},\n",
      "                                                     'hh2': { 'el': -71.0,\n",
      "                                                              'gkbar': 0.01,\n",
      "                                                              'gl': 4.26e-05,\n",
      "                                                              'gnabar': 0.14},\n",
      "                                                     'kca': {'gbar': 0.0002},\n",
      "                                                     'km': {'gbar': 200.0}},\n",
      "                                          'topol': { 'childX': 0.0,\n",
      "                                                     'parentSec': 'apical_trunk',\n",
      "                                                     'parentX': 1.0},\n",
      "                                          'vinit': -71.32},\n",
      "                            'apical_2': { 'geom': { 'L': 680.0,\n",
      "                                                    'Ra': 200.0,\n",
      "                                                    'cm': 0.85,\n",
      "                                                    'diam': 4.93,\n",
      "                                                    'nseg': 13,\n",
      "                                                    'pt3d': [ [ 0.0,\n",
      "                                                                483.0,\n",
      "                                                                0.0,\n",
      "                                                                4.93],\n",
      "                                                              [ 0.0,\n",
      "                                                                1163.0,\n",
      "                                                                0.0,\n",
      "                                                                4.93]]},\n",
      "                                          'ions': { 'ca': { 'e': 132.4579341637009,\n",
      "                                                            'i': 5e-05,\n",
      "                                                            'o': 2.0},\n",
      "                                                    'k': { 'e': -77.0,\n",
      "                                                           'i': 54.4,\n",
      "                                                           'o': 2.5},\n",
      "                                                    'na': { 'e': 50.0,\n",
      "                                                            'i': 10.0,\n",
      "                                                            'o': 140.0}},\n",
      "                                          'mechs': { 'ar': { 'gbar': [ 1.2698216e-05,\n",
      "                                                                       1.4855715e-05,\n",
      "                                                                       1.7379784e-05,\n",
      "                                                                       2.0332707e-05,\n",
      "                                                                       2.3787348e-05,\n",
      "                                                                       2.7828952e-05,\n",
      "                                                                       3.2557247e-05,\n",
      "                                                                       3.8088907e-05,\n",
      "                                                                       4.4560426e-05,\n",
      "                                                                       5.2131493e-05,\n",
      "                                                                       6.0988926e-05,\n",
      "                                                                       7.1351287e-05,\n",
      "                                                                       8.3474272e-05]},\n",
      "                                                     'ca': {'gbar': 60.0},\n",
      "                                                     'cad': {'taur': 20.0},\n",
      "                                                     'cat': {'gbar': 0.0002},\n",
      "                                                     'dipole': {},\n",
      "                                                     'hh2': { 'el': -71.0,\n",
      "                                                              'gkbar': 0.01,\n",
      "                                                              'gl': 4.26e-05,\n",
      "                                                              'gnabar': 0.14},\n",
      "                                                     'kca': {'gbar': 0.0002},\n",
      "                                                     'km': {'gbar': 200.0}},\n",
      "                                          'topol': { 'childX': 0.0,\n",
      "                                                     'parentSec': 'apical_1',\n",
      "                                                     'parentX': 1.0},\n",
      "                                          'vinit': -69.08},\n",
      "                            'apical_oblique': { 'geom': { 'L': 255.0,\n",
      "                                                          'Ra': 200.0,\n",
      "                                                          'cm': 0.85,\n",
      "                                                          'diam': 5.1,\n",
      "                                                          'nseg': 5,\n",
      "                                                          'pt3d': [ [ 0.0,\n",
      "                                                                      83.0,\n",
      "                                                                      0.0,\n",
      "                                                                      5.1],\n",
      "                                                                    [ -255.0,\n",
      "                                                                      83.0,\n",
      "                                                                      0.0,\n",
      "                                                                      5.1]]},\n",
      "                                                'ions': { 'ca': { 'e': 132.4579341637009,\n",
      "                                                                  'i': 5e-05,\n",
      "                                                                  'o': 2.0},\n",
      "                                                          'k': { 'e': -77.0,\n",
      "                                                                 'i': 54.4,\n",
      "                                                                 'o': 2.5},\n",
      "                                                          'na': { 'e': 50.0,\n",
      "                                                                  'i': 10.0,\n",
      "                                                                  'o': 140.0}},\n",
      "                                                'mechs': { 'ar': { 'gbar': [ 1.6478971e-06,\n",
      "                                                                             1.9203357e-06,\n",
      "                                                                             2.2378151e-06,\n",
      "                                                                             2.6077819e-06,\n",
      "                                                                             3.0389133e-06]},\n",
      "                                                           'ca': {'gbar': 60.0},\n",
      "                                                           'cad': { 'taur': 20.0},\n",
      "                                                           'cat': { 'gbar': 0.0002},\n",
      "                                                           'dipole': {},\n",
      "                                                           'hh2': { 'el': -71.0,\n",
      "                                                                    'gkbar': 0.01,\n",
      "                                                                    'gl': 4.26e-05,\n",
      "                                                                    'gnabar': 0.14},\n",
      "                                                           'kca': { 'gbar': 0.0002},\n",
      "                                                           'km': { 'gbar': 200.0}},\n",
      "                                                'topol': { 'childX': 0.0,\n",
      "                                                           'parentSec': 'apical_trunk',\n",
      "                                                           'parentX': 1.0},\n",
      "                                                'vinit': -72.0},\n",
      "                            'apical_trunk': { 'geom': { 'L': 102.0,\n",
      "                                                        'Ra': 200.0,\n",
      "                                                        'cm': 0.85,\n",
      "                                                        'diam': 10.2,\n",
      "                                                        'nseg': 3,\n",
      "                                                        'pt3d': [ [ 0.0,\n",
      "                                                                    23.0,\n",
      "                                                                    0.0,\n",
      "                                                                    10.2],\n",
      "                                                                  [ 0.0,\n",
      "                                                                    125.0,\n",
      "                                                                    0.0,\n",
      "                                                                    10.2]]},\n",
      "                                              'ions': { 'ca': { 'e': 132.4579341637009,\n",
      "                                                                'i': 5e-05,\n",
      "                                                                'o': 2.0},\n",
      "                                                        'k': { 'e': -77.0,\n",
      "                                                               'i': 54.4,\n",
      "                                                               'o': 2.5},\n",
      "                                                        'na': { 'e': 50.0,\n",
      "                                                                'i': 10.0,\n",
      "                                                                'o': 140.0}},\n",
      "                                              'mechs': { 'ar': { 'gbar': [ 1.1829366e-06,\n",
      "                                                                           1.3099645e-06,\n",
      "                                                                           1.450633e-06]},\n",
      "                                                         'ca': {'gbar': 60.0},\n",
      "                                                         'cad': {'taur': 20.0},\n",
      "                                                         'cat': { 'gbar': 0.0002},\n",
      "                                                         'dipole': {},\n",
      "                                                         'hh2': { 'el': -71.0,\n",
      "                                                                  'gkbar': 0.01,\n",
      "                                                                  'gl': 4.26e-05,\n",
      "                                                                  'gnabar': 0.14},\n",
      "                                                         'kca': { 'gbar': 0.0002},\n",
      "                                                         'km': {'gbar': 200.0}},\n",
      "                                              'topol': { 'childX': 0.0,\n",
      "                                                         'parentSec': 'soma',\n",
      "                                                         'parentX': 1.0},\n",
      "                                              'vinit': -72.0},\n",
      "                            'apical_tuft': { 'geom': { 'L': 425.0,\n",
      "                                                       'Ra': 200.0,\n",
      "                                                       'cm': 0.85,\n",
      "                                                       'diam': 3.4,\n",
      "                                                       'nseg': 9,\n",
      "                                                       'pt3d': [ [ 0.0,\n",
      "                                                                   883.0,\n",
      "                                                                   0.0,\n",
      "                                                                   3.4],\n",
      "                                                                 [ 0.0,\n",
      "                                                                   1308.0,\n",
      "                                                                   0.0,\n",
      "                                                                   3.4]]},\n",
      "                                             'ions': { 'ca': { 'e': 132.4579341637009,\n",
      "                                                               'i': 5e-05,\n",
      "                                                               'o': 2.0},\n",
      "                                                       'k': { 'e': -77.0,\n",
      "                                                              'i': 54.4,\n",
      "                                                              'o': 2.5},\n",
      "                                                       'na': { 'e': 50.0,\n",
      "                                                               'i': 10.0,\n",
      "                                                               'o': 140.0}},\n",
      "                                             'mechs': { 'ar': { 'gbar': [ 9.6914906e-05,\n",
      "                                                                          0.00011166463,\n",
      "                                                                          0.00012865915,\n",
      "                                                                          0.00014824011,\n",
      "                                                                          0.00017080115,\n",
      "                                                                          0.0001967958,\n",
      "                                                                          0.00022674665,\n",
      "                                                                          0.0002612558,\n",
      "                                                                          0.00030101698]},\n",
      "                                                        'ca': {'gbar': 60.0},\n",
      "                                                        'cad': {'taur': 20.0},\n",
      "                                                        'cat': {'gbar': 0.0002},\n",
      "                                                        'dipole': {},\n",
      "                                                        'hh2': { 'el': -71.0,\n",
      "                                                                 'gkbar': 0.01,\n",
      "                                                                 'gl': 4.26e-05,\n",
      "                                                                 'gnabar': 0.14},\n",
      "                                                        'kca': {'gbar': 0.0002},\n",
      "                                                        'km': {'gbar': 200.0}},\n",
      "                                             'topol': { 'childX': 0.0,\n",
      "                                                        'parentSec': 'apical_2',\n",
      "                                                        'parentX': 1.0},\n",
      "                                             'vinit': -67.3},\n",
      "                            'basal_1': { 'geom': { 'L': 85.0,\n",
      "                                                   'Ra': 200.0,\n",
      "                                                   'cm': 0.85,\n",
      "                                                   'diam': 6.8,\n",
      "                                                   'nseg': 1,\n",
      "                                                   'pt3d': [ [ 0.0,\n",
      "                                                               0.0,\n",
      "                                                               0.0,\n",
      "                                                               6.8],\n",
      "                                                             [ 0.0,\n",
      "                                                               -85.0,\n",
      "                                                               0.0,\n",
      "                                                               6.8]]},\n",
      "                                         'ions': { 'ca': { 'e': 132.4579341637009,\n",
      "                                                           'i': 5e-05,\n",
      "                                                           'o': 2.0},\n",
      "                                                   'k': { 'e': -77.0,\n",
      "                                                          'i': 54.4,\n",
      "                                                          'o': 2.5},\n",
      "                                                   'na': { 'e': 50.0,\n",
      "                                                           'i': 10.0,\n",
      "                                                           'o': 140.0}},\n",
      "                                         'mechs': { 'ar': { 'gbar': [ 1.1359849e-06]},\n",
      "                                                    'ca': {'gbar': 60.0},\n",
      "                                                    'cad': {'taur': 20.0},\n",
      "                                                    'cat': {'gbar': 0.0002},\n",
      "                                                    'dipole': {},\n",
      "                                                    'hh2': { 'el': -71.0,\n",
      "                                                             'gkbar': 0.01,\n",
      "                                                             'gl': 4.26e-05,\n",
      "                                                             'gnabar': 0.14},\n",
      "                                                    'kca': {'gbar': 0.0002},\n",
      "                                                    'km': {'gbar': 200.0}},\n",
      "                                         'topol': { 'childX': 0.0,\n",
      "                                                    'parentSec': 'soma',\n",
      "                                                    'parentX': 0.0},\n",
      "                                         'vinit': -72.0},\n",
      "                            'basal_2': { 'geom': { 'L': 255.0,\n",
      "                                                   'Ra': 200.0,\n",
      "                                                   'cm': 0.85,\n",
      "                                                   'diam': 8.5,\n",
      "                                                   'nseg': 5,\n",
      "                                                   'pt3d': [ [ 0.0,\n",
      "                                                               -50.0,\n",
      "                                                               0.0,\n",
      "                                                               8.5],\n",
      "                                                             [ -180.3122292025696,\n",
      "                                                               -230.3122292025696,\n",
      "                                                               0.0,\n",
      "                                                               8.5]]},\n",
      "                                         'ions': { 'ca': { 'e': 132.4579341637009,\n",
      "                                                           'i': 5e-05,\n",
      "                                                           'o': 2.0},\n",
      "                                                   'k': { 'e': -77.0,\n",
      "                                                          'i': 54.4,\n",
      "                                                          'o': 2.5},\n",
      "                                                   'na': { 'e': 50.0,\n",
      "                                                           'i': 10.0,\n",
      "                                                           'o': 140.0}},\n",
      "                                         'mechs': { 'ar': { 'gbar': [ 1.3930561e-06,\n",
      "                                                                      1.6233631e-06,\n",
      "                                                                      1.8917456e-06,\n",
      "                                                                      2.2044984e-06,\n",
      "                                                                      2.5689571e-06]},\n",
      "                                                    'ca': {'gbar': 60.0},\n",
      "                                                    'cad': {'taur': 20.0},\n",
      "                                                    'cat': {'gbar': 0.0002},\n",
      "                                                    'dipole': {},\n",
      "                                                    'hh2': { 'el': -71.0,\n",
      "                                                             'gkbar': 0.01,\n",
      "                                                             'gl': 4.26e-05,\n",
      "                                                             'gnabar': 0.14},\n",
      "                                                    'kca': {'gbar': 0.0002},\n",
      "                                                    'km': {'gbar': 200.0}},\n",
      "                                         'topol': { 'childX': 0.0,\n",
      "                                                    'parentSec': 'basal_1',\n",
      "                                                    'parentX': 1.0},\n",
      "                                         'vinit': -72.0},\n",
      "                            'basal_3': { 'geom': { 'L': 255.0,\n",
      "                                                   'Ra': 200.0,\n",
      "                                                   'cm': 0.85,\n",
      "                                                   'diam': 8.5,\n",
      "                                                   'nseg': 5,\n",
      "                                                   'pt3d': [ [ 0.0,\n",
      "                                                               -50.0,\n",
      "                                                               0.0,\n",
      "                                                               8.5],\n",
      "                                                             [ 180.3122292025696,\n",
      "                                                               -230.3122292025696,\n",
      "                                                               0.0,\n",
      "                                                               8.5]]},\n",
      "                                         'ions': { 'ca': { 'e': 132.4579341637009,\n",
      "                                                           'i': 5e-05,\n",
      "                                                           'o': 2.0},\n",
      "                                                   'k': { 'e': -77.0,\n",
      "                                                          'i': 54.4,\n",
      "                                                          'o': 2.5},\n",
      "                                                   'na': { 'e': 50.0,\n",
      "                                                           'i': 10.0,\n",
      "                                                           'o': 140.0}},\n",
      "                                         'mechs': { 'ar': { 'gbar': [ 1.3930561e-06,\n",
      "                                                                      1.6233631e-06,\n",
      "                                                                      1.8917456e-06,\n",
      "                                                                      2.2044984e-06,\n",
      "                                                                      2.5689571e-06]},\n",
      "                                                    'ca': {'gbar': 60.0},\n",
      "                                                    'cad': {'taur': 20.0},\n",
      "                                                    'cat': {'gbar': 0.0002},\n",
      "                                                    'dipole': {},\n",
      "                                                    'hh2': { 'el': -71.0,\n",
      "                                                             'gkbar': 0.01,\n",
      "                                                             'gl': 4.26e-05,\n",
      "                                                             'gnabar': 0.14},\n",
      "                                                    'kca': {'gbar': 0.0002},\n",
      "                                                    'km': {'gbar': 200.0}},\n",
      "                                         'topol': { 'childX': 0.0,\n",
      "                                                    'parentSec': 'basal_1',\n",
      "                                                    'parentX': 1.0},\n",
      "                                         'vinit': -72.0},\n",
      "                            'soma': { 'geom': { 'L': 39.0,\n",
      "                                                'Ra': 200.0,\n",
      "                                                'cm': 0.85,\n",
      "                                                'diam': 28.9,\n",
      "                                                'nseg': 1,\n",
      "                                                'pt3d': [ [0.0, 0.0, 0.0, 28.9],\n",
      "                                                          [ 0.0,\n",
      "                                                            39.0,\n",
      "                                                            0.0,\n",
      "                                                            28.9]]},\n",
      "                                      'ions': { 'ca': { 'e': 132.4579341637009,\n",
      "                                                        'i': 5e-05,\n",
      "                                                        'o': 2.0},\n",
      "                                                'k': { 'e': -77.0,\n",
      "                                                       'i': 54.4,\n",
      "                                                       'o': 2.5},\n",
      "                                                'na': { 'e': 50.0,\n",
      "                                                        'i': 10.0,\n",
      "                                                        'o': 140.0}},\n",
      "                                      'mechs': { 'ar': {'gbar': 1e-06},\n",
      "                                                 'ca': {'gbar': 60.0},\n",
      "                                                 'cad': {'taur': 20.0},\n",
      "                                                 'cat': {'gbar': 0.0002},\n",
      "                                                 'dipole': {},\n",
      "                                                 'hh2': { 'el': -65.0,\n",
      "                                                          'gkbar': 0.01,\n",
      "                                                          'gl': 4.26e-05,\n",
      "                                                          'gnabar': 0.16},\n",
      "                                                 'kca': {'gbar': 0.0002},\n",
      "                                                 'km': {'gbar': 200.0}},\n",
      "                                      'topol': {},\n",
      "                                      'vinit': -72.0}}}}\n"
     ]
    }
   ],
   "source": [
    "pp.pprint(netParams.cellParams)"
   ]
  },
  {
   "cell_type": "markdown",
   "metadata": {
    "slideshow": {
     "slide_type": "slide"
    }
   },
   "source": [
    "Now `synMechParams`"
   ]
  },
  {
   "cell_type": "code",
   "execution_count": 20,
   "metadata": {
    "slideshow": {
     "slide_type": "fragment"
    }
   },
   "outputs": [
    {
     "name": "stdout",
     "output_type": "stream",
     "text": [
      "[ 'L2Pyr_AMPA',\n",
      "  'L2Pyr_NMDA',\n",
      "  'L2Pyr_GABAA',\n",
      "  'L2Pyr_GABAB',\n",
      "  'L5Pyr_AMPA',\n",
      "  'L5Pyr_NMDA',\n",
      "  'L5Pyr_GABAA',\n",
      "  'L5Pyr_GABAB',\n",
      "  'AMPA',\n",
      "  'NMDA',\n",
      "  'GABAA',\n",
      "  'GABAB']\n"
     ]
    }
   ],
   "source": [
    "pp.pprint(list(netParams.synMechParams.keys()))"
   ]
  },
  {
   "cell_type": "code",
   "execution_count": 21,
   "metadata": {
    "slideshow": {
     "slide_type": "fragment"
    }
   },
   "outputs": [
    {
     "name": "stdout",
     "output_type": "stream",
     "text": [
      "{'mod': 'Exp2Syn', 'tau1': 1.0, 'tau2': 20.0, 'e': 0.0}\n",
      "{'mod': 'Exp2Syn', 'tau1': 0.5, 'tau2': 5.0, 'e': 0.0}\n",
      "{'mod': 'Exp2Syn', 'tau1': 1.0, 'tau2': 20.0, 'e': -80.0}\n"
     ]
    }
   ],
   "source": [
    "print(netParams.synMechParams['L2Pyr_NMDA'])\n",
    "print(netParams.synMechParams['L2Pyr_AMPA'])\n",
    "print(netParams.synMechParams['L5Pyr_GABAB'])"
   ]
  },
  {
   "cell_type": "markdown",
   "metadata": {
    "slideshow": {
     "slide_type": "slide"
    }
   },
   "source": [
    "Now `connParams`"
   ]
  },
  {
   "cell_type": "code",
   "execution_count": 22,
   "metadata": {},
   "outputs": [
    {
     "name": "stdout",
     "output_type": "stream",
     "text": [
      "[ 'L2Pyr->L2Pyr_0',\n",
      "  'L2Pyr->L2Pyr_1',\n",
      "  'L2Basket->L2Pyr_0',\n",
      "  'L2Basket->L2Pyr_1',\n",
      "  'L2Pyr->L2Basket_AMPA',\n",
      "  'L2Basket->L2Basket',\n",
      "  'L5Pyr->L5Pyr_0',\n",
      "  'L5Pyr->L5Pyr_1',\n",
      "  'L5Basket->L5Pyr_0',\n",
      "  'L5Basket->L5Pyr_1',\n",
      "  'L2Pyr->L5Pyr',\n",
      "  'L2Basket->L5Pyr',\n",
      "  'L5Pyr->L5Basket',\n",
      "  'L2Pyr->L5Basket',\n",
      "  'L5Basket->L5Basket',\n",
      "  'extRhythmicProx->L2Pyr_0',\n",
      "  'extRhythmicProx->L2Pyr_1',\n",
      "  'extRhythmicDistal->L2Pyr_0',\n",
      "  'extRhythmicDistal->L2Pyr_1',\n",
      "  'extRhythmicProx->L5Pyr_0',\n",
      "  'extRhythmicProx->L5Pyr_1',\n",
      "  'extRhythmicDistal->L5Pyr_0',\n",
      "  'extRhythmicDistal->L5Pyr_1',\n",
      "  'extRhythmicProx->L2Basket_0',\n",
      "  'extRhythmicProx->L2Basket_1',\n",
      "  'extRhythmicProx->L5Basket_0',\n",
      "  'extRhythmicProx->L5Basket_1',\n",
      "  'evokedProx_1->L2Pyr_0',\n",
      "  'evokedProx_1->L2Pyr_1',\n",
      "  'evokedProx_1->L5Pyr_0',\n",
      "  'evokedProx_1->L5Pyr_1',\n",
      "  'evokedProx_1->L2Basket_0',\n",
      "  'evokedProx_1->L2Basket_1',\n",
      "  'evokedProx_1->L5Basket_0',\n",
      "  'evokedProx_1->L5Basket_1',\n",
      "  'evokedProx_2->L2Pyr_0',\n",
      "  'evokedProx_2->L2Pyr_1',\n",
      "  'evokedProx_2->L5Pyr_0',\n",
      "  'evokedProx_2->L5Pyr_1',\n",
      "  'evokedProx_2->L2Basket_0',\n",
      "  'evokedProx_2->L2Basket_1',\n",
      "  'evokedProx_2->L5Basket_0',\n",
      "  'evokedProx_2->L5Basket_1',\n",
      "  'evokedDistal_1->L2Pyr_0',\n",
      "  'evokedDistal_1->L2Pyr_1',\n",
      "  'evokedDistal_1->L5Pyr_0',\n",
      "  'evokedDistal_1->L5Pyr_1',\n",
      "  'evokedDistal_1->L2Basket_0',\n",
      "  'evokedDistal_1->L2Basket_1',\n",
      "  'extPoisson->L2Pyr_0',\n",
      "  'extPoisson->L2Pyr_1',\n",
      "  'extPoisson->L5Pyr_0',\n",
      "  'extPoisson->L5Pyr_1',\n",
      "  'extPoisson->L2Basket_0',\n",
      "  'extPoisson->L2Basket_1',\n",
      "  'extPoisson->L5Basket_0',\n",
      "  'extPoisson->L5Basket_1',\n",
      "  'extGauss->L2Pyr',\n",
      "  'extGauss->L5Pyr']\n"
     ]
    }
   ],
   "source": [
    "pp.pprint(list(netParams.connParams.keys()))"
   ]
  },
  {
   "cell_type": "code",
   "execution_count": null,
   "metadata": {},
   "outputs": [],
   "source": [
    "netParams.connParams['L5Basket->L5Pyr_0']"
   ]
  },
  {
   "cell_type": "code",
   "execution_count": null,
   "metadata": {},
   "outputs": [],
   "source": [
    "netParams.connParams['extRhythmicDistal->L5Pyr_0']"
   ]
  },
  {
   "cell_type": "code",
   "execution_count": null,
   "metadata": {},
   "outputs": [],
   "source": [
    "netParams.connParams['extRhythmicProx->L5Pyr_0']"
   ]
  },
  {
   "cell_type": "markdown",
   "metadata": {
    "slideshow": {
     "slide_type": "slide"
    }
   },
   "source": [
    "Now stimulation-related parameters. Note that these are only for tonic-type stims that already are part of NetPyNE and Neuron"
   ]
  },
  {
   "cell_type": "code",
   "execution_count": 23,
   "metadata": {
    "slideshow": {
     "slide_type": "fragment"
    }
   },
   "outputs": [
    {
     "name": "stdout",
     "output_type": "stream",
     "text": [
      "['ITonic_L2Pyr', 'ITonic_L5Pyr', 'ITonic_L2Basket', 'ITonic_L5Basket']\n",
      "['ITonic->L2Pyr', 'ITonic->L5Pyr', 'ITonic->L2Basket', 'ITonic->L5Basket']\n"
     ]
    }
   ],
   "source": [
    "pp.pprint(list(netParams.stimSourceParams.keys()))\n",
    "pp.pprint(list(netParams.stimTargetParams.keys()))"
   ]
  },
  {
   "cell_type": "code",
   "execution_count": 27,
   "metadata": {
    "slideshow": {
     "slide_type": "fragment"
    }
   },
   "outputs": [
    {
     "data": {
      "text/plain": [
       "{'source': 'ITonic_L2Pyr',\n",
       " 'sec': 'soma',\n",
       " 'loc': 0.5,\n",
       " 'conds': {'pop': 'L2Pyr'}}"
      ]
     },
     "execution_count": 27,
     "metadata": {},
     "output_type": "execute_result"
    }
   ],
   "source": [
    "netParams.stimSourceParams['ITonic_L2Pyr']\n",
    "netParams.stimTargetParams['ITonic->L2Pyr']"
   ]
  },
  {
   "cell_type": "markdown",
   "metadata": {
    "slideshow": {
     "slide_type": "slide"
    }
   },
   "source": [
    "Some other misc. parameters about the network"
   ]
  },
  {
   "cell_type": "code",
   "execution_count": 28,
   "metadata": {},
   "outputs": [
    {
     "data": {
      "text/plain": [
       "['__class__',\n",
       " '__delattr__',\n",
       " '__dict__',\n",
       " '__dir__',\n",
       " '__doc__',\n",
       " '__eq__',\n",
       " '__format__',\n",
       " '__ge__',\n",
       " '__getattribute__',\n",
       " '__gt__',\n",
       " '__hash__',\n",
       " '__init__',\n",
       " '__init_subclass__',\n",
       " '__le__',\n",
       " '__lt__',\n",
       " '__module__',\n",
       " '__ne__',\n",
       " '__new__',\n",
       " '__reduce__',\n",
       " '__reduce_ex__',\n",
       " '__repr__',\n",
       " '__setattr__',\n",
       " '__sizeof__',\n",
       " '__str__',\n",
       " '__subclasshook__',\n",
       " '__weakref__',\n",
       " '_labelid',\n",
       " 'addCellParams',\n",
       " 'addCellParamsSecList',\n",
       " 'addCellParamsWeightNorm',\n",
       " 'addConnParams',\n",
       " 'addPopParams',\n",
       " 'addStimSourceParams',\n",
       " 'addStimTargetParams',\n",
       " 'addSubConnParams',\n",
       " 'addSynMechParams',\n",
       " 'cellParams',\n",
       " 'connParams',\n",
       " 'correctBorder',\n",
       " 'defaultDelay',\n",
       " 'defaultThreshold',\n",
       " 'defaultWeight',\n",
       " 'defineCellShapes',\n",
       " 'importCellParams',\n",
       " 'importCellParamsFromNet',\n",
       " 'loadCellParamsRule',\n",
       " 'popParams',\n",
       " 'popTagsCopiedToCells',\n",
       " 'propVelocity',\n",
       " 'renameCellParamsSec',\n",
       " 'rotateCellsRandomly',\n",
       " 'rxdParams',\n",
       " 'save',\n",
       " 'saveCellParamsRule',\n",
       " 'scale',\n",
       " 'scaleConnWeight',\n",
       " 'scaleConnWeightModels',\n",
       " 'scaleConnWeightNetStims',\n",
       " 'shape',\n",
       " 'sizeX',\n",
       " 'sizeY',\n",
       " 'sizeZ',\n",
       " 'stimSourceParams',\n",
       " 'stimTargetParams',\n",
       " 'subConnParams',\n",
       " 'swapCellParamsPt3d',\n",
       " 'synMechParams',\n",
       " 'todict']"
      ]
     },
     "execution_count": 28,
     "metadata": {},
     "output_type": "execute_result"
    }
   ],
   "source": [
    "dir(netParams)"
   ]
  },
  {
   "cell_type": "code",
   "execution_count": null,
   "metadata": {
    "slideshow": {
     "slide_type": "fragment"
    }
   },
   "outputs": [],
   "source": [
    "print(netParams.sizeX)\n",
    "print(netParams.sizeZ)\n",
    "print(netParams.sizeY)"
   ]
  },
  {
   "cell_type": "markdown",
   "metadata": {
    "slideshow": {
     "slide_type": "slide"
    }
   },
   "source": [
    "Since the Neuron objects were created with the simulation was run, we can look at the constructed network"
   ]
  },
  {
   "cell_type": "code",
   "execution_count": 29,
   "metadata": {
    "slideshow": {
     "slide_type": "fragment"
    }
   },
   "outputs": [
    {
     "name": "stdout",
     "output_type": "stream",
     "text": [
      "[ 'L2Basket',\n",
      "  'L2Pyr',\n",
      "  'L5Basket',\n",
      "  'L5Pyr',\n",
      "  'extRhythmicProximal',\n",
      "  'extRhythmicDistal',\n",
      "  'evokedProximal_1_L2Basket',\n",
      "  'evokedProximal_1_L2Pyr',\n",
      "  'evokedProximal_1_L5Basket',\n",
      "  'evokedProximal_1_L5Pyr',\n",
      "  'evokedProximal_2_L2Basket',\n",
      "  'evokedProximal_2_L2Pyr',\n",
      "  'evokedProximal_2_L5Basket',\n",
      "  'evokedProximal_2_L5Pyr',\n",
      "  'evokedDistal_1_L2Basket',\n",
      "  'evokedDistal_1_L2Pyr',\n",
      "  'evokedDistal_1_L5Basket',\n",
      "  'evokedDistal_1_L5Pyr',\n",
      "  'extPoisson_L2Pyr',\n",
      "  'extPoisson_L5Pyr',\n",
      "  'extPoisson_L2Basket',\n",
      "  'extPoisson_L5Basket',\n",
      "  'extGauss_L2Pyr',\n",
      "  'extGauss_L5Pyr']\n"
     ]
    }
   ],
   "source": [
    "pp.pprint(list(sim.net.pops.keys()))"
   ]
  },
  {
   "cell_type": "markdown",
   "metadata": {
    "slideshow": {
     "slide_type": "slide"
    }
   },
   "source": [
    "Let's look at the `extRhythmicDistal` connection to L5 pyramidal cells"
   ]
  },
  {
   "cell_type": "code",
   "execution_count": 30,
   "metadata": {
    "slideshow": {
     "slide_type": "fragment"
    }
   },
   "outputs": [
    {
     "data": {
      "text/plain": [
       "[271]"
      ]
     },
     "execution_count": 30,
     "metadata": {},
     "output_type": "execute_result"
    }
   ],
   "source": [
    "sim.net.pops['extRhythmicDistal'].cellGids"
   ]
  },
  {
   "cell_type": "code",
   "execution_count": 31,
   "metadata": {
    "slideshow": {
     "slide_type": "fragment"
    }
   },
   "outputs": [
    {
     "data": {
      "text/plain": [
       "{'cellType': 'L5Pyr',\n",
       " 'cellModel': 'HH_reduced',\n",
       " 'yRange': [1308.0, 1308.0],\n",
       " 'gridSpacing': 1,\n",
       " 'pop': 'L5Pyr',\n",
       " 'ynormRange': [0.654, 0.654]}"
      ]
     },
     "execution_count": 31,
     "metadata": {},
     "output_type": "execute_result"
    }
   ],
   "source": [
    "sim.net.pops['L5Pyr'].tags"
   ]
  },
  {
   "cell_type": "code",
   "execution_count": 32,
   "metadata": {
    "slideshow": {
     "slide_type": "fragment"
    }
   },
   "outputs": [
    {
     "name": "stdout",
     "output_type": "stream",
     "text": [
      "[170, 171, 172, 173, 174, 175, 176, 177, 178, 179, 180, 181, 182, 183, 184, 185, 186, 187, 188, 189, 190, 191, 192, 193, 194, 195, 196, 197, 198, 199, 200, 201, 202, 203, 204, 205, 206, 207, 208, 209, 210, 211, 212, 213, 214, 215, 216, 217, 218, 219, 220, 221, 222, 223, 224, 225, 226, 227, 228, 229, 230, 231, 232, 233, 234, 235, 236, 237, 238, 239, 240, 241, 242, 243, 244, 245, 246, 247, 248, 249, 250, 251, 252, 253, 254, 255, 256, 257, 258, 259, 260, 261, 262, 263, 264, 265, 266, 267, 268, 269]\n"
     ]
    }
   ],
   "source": [
    "print(sim.net.pops['L5Pyr'].cellGids)"
   ]
  },
  {
   "cell_type": "code",
   "execution_count": 33,
   "metadata": {
    "slideshow": {
     "slide_type": "fragment"
    }
   },
   "outputs": [
    {
     "data": {
      "text/plain": [
       "[{preGid: 271, sec: 'apical_tuft', loc: 0.5, synMech: 'L5Pyr_AMPA', weight: 5.3827476185323775e-05, delay: 5.016025627328526, label: 'extRhythmicDistal->L5Pyr_0', hObj: NetCon[189880]},\n",
       " {preGid: 270, sec: 'apical_oblique', loc: 0.5, synMech: 'L5Pyr_AMPA', weight: 5.3827476185323775e-05, delay: 1.0032051254657053, label: 'extRhythmicProx->L5Pyr_0', hObj: NetCon[189582]},\n",
       " {preGid: 270, sec: 'basal_3', loc: 0.5, synMech: 'L5Pyr_AMPA', weight: 5.3827476185323775e-05, delay: 1.0032051254657053, label: 'extRhythmicProx->L5Pyr_0', hObj: NetCon[189581]},\n",
       " {preGid: 270, sec: 'basal_2', loc: 0.5, synMech: 'L5Pyr_AMPA', weight: 5.3827476185323775e-05, delay: 1.0032051254657053, label: 'extRhythmicProx->L5Pyr_0', hObj: NetCon[189580]},\n",
       " {preGid: 34, sec: 'apical_tuft', loc: 0.5, synMech: 'L5Pyr_GABAA', weight: 0.0009493288668428896, delay: 1.0533757425133647, label: 'L2Basket->L5Pyr', hObj: NetCon[177524]},\n",
       " {preGid: 33, sec: 'apical_tuft', loc: 0.5, synMech: 'L5Pyr_GABAA', weight: 0.0009619430785244926, delay: 1.0395625503474513, label: 'L2Basket->L5Pyr', hObj: NetCon[177523]},\n",
       " {preGid: 32, sec: 'apical_tuft', loc: 0.5, synMech: 'L5Pyr_GABAA', weight: 0.0009677320866530112, delay: 1.03334384980309, label: 'L2Basket->L5Pyr', hObj: NetCon[177522]},\n",
       " {preGid: 31, sec: 'apical_tuft', loc: 0.5, synMech: 'L5Pyr_GABAA', weight: 0.0009436499474367986, delay: 1.0597149957102876, label: 'L2Basket->L5Pyr', hObj: NetCon[177521]},\n",
       " {preGid: 30, sec: 'apical_tuft', loc: 0.5, synMech: 'L5Pyr_GABAA', weight: 0.0009607894391523232, delay: 1.0408107741923882, label: 'L2Basket->L5Pyr', hObj: NetCon[177520]}]"
      ]
     },
     "execution_count": 33,
     "metadata": {},
     "output_type": "execute_result"
    }
   ],
   "source": [
    "sim.net.cells[170].conns[-1:-10:-1]"
   ]
  },
  {
   "cell_type": "markdown",
   "metadata": {
    "slideshow": {
     "slide_type": "slide"
    }
   },
   "source": [
    "We can modify the weight"
   ]
  },
  {
   "cell_type": "code",
   "execution_count": 34,
   "metadata": {
    "slideshow": {
     "slide_type": "fragment"
    }
   },
   "outputs": [
    {
     "name": "stdout",
     "output_type": "stream",
     "text": [
      "Modfying connection parameters...\n",
      "  Done; connections modification time = 0.12 s.\n",
      "Modfying connection parameters...\n",
      "  Done; connections modification time = 0.10 s.\n"
     ]
    }
   ],
   "source": [
    "sim.net.modifyConns({'conds': {'label': 'extRhythmicDistal->L5Pyr_0'}, 'weight': 40e-4})\n",
    "sim.net.modifyConns({'conds': {'label': 'extRhythmicDistal->L2Pyr_0'}, 'weight': 40e-4})"
   ]
  },
  {
   "cell_type": "code",
   "execution_count": 35,
   "metadata": {
    "slideshow": {
     "slide_type": "fragment"
    }
   },
   "outputs": [
    {
     "data": {
      "text/plain": [
       "[{preGid: 271, sec: 'apical_tuft', loc: 0.5, synMech: 'L5Pyr_AMPA', weight: 0.004, delay: 5.016025627328526, label: 'extRhythmicDistal->L5Pyr_0', hObj: NetCon[189880]},\n",
       " {preGid: 270, sec: 'apical_oblique', loc: 0.5, synMech: 'L5Pyr_AMPA', weight: 5.3827476185323775e-05, delay: 1.0032051254657053, label: 'extRhythmicProx->L5Pyr_0', hObj: NetCon[189582]},\n",
       " {preGid: 270, sec: 'basal_3', loc: 0.5, synMech: 'L5Pyr_AMPA', weight: 5.3827476185323775e-05, delay: 1.0032051254657053, label: 'extRhythmicProx->L5Pyr_0', hObj: NetCon[189581]},\n",
       " {preGid: 270, sec: 'basal_2', loc: 0.5, synMech: 'L5Pyr_AMPA', weight: 5.3827476185323775e-05, delay: 1.0032051254657053, label: 'extRhythmicProx->L5Pyr_0', hObj: NetCon[189580]},\n",
       " {preGid: 34, sec: 'apical_tuft', loc: 0.5, synMech: 'L5Pyr_GABAA', weight: 0.0009493288668428896, delay: 1.0533757425133647, label: 'L2Basket->L5Pyr', hObj: NetCon[177524]},\n",
       " {preGid: 33, sec: 'apical_tuft', loc: 0.5, synMech: 'L5Pyr_GABAA', weight: 0.0009619430785244926, delay: 1.0395625503474513, label: 'L2Basket->L5Pyr', hObj: NetCon[177523]},\n",
       " {preGid: 32, sec: 'apical_tuft', loc: 0.5, synMech: 'L5Pyr_GABAA', weight: 0.0009677320866530112, delay: 1.03334384980309, label: 'L2Basket->L5Pyr', hObj: NetCon[177522]},\n",
       " {preGid: 31, sec: 'apical_tuft', loc: 0.5, synMech: 'L5Pyr_GABAA', weight: 0.0009436499474367986, delay: 1.0597149957102876, label: 'L2Basket->L5Pyr', hObj: NetCon[177521]},\n",
       " {preGid: 30, sec: 'apical_tuft', loc: 0.5, synMech: 'L5Pyr_GABAA', weight: 0.0009607894391523232, delay: 1.0408107741923882, label: 'L2Basket->L5Pyr', hObj: NetCon[177520]}]"
      ]
     },
     "execution_count": 35,
     "metadata": {},
     "output_type": "execute_result"
    }
   ],
   "source": [
    "sim.net.cells[170].conns[-1:-10:-1]"
   ]
  },
  {
   "cell_type": "markdown",
   "metadata": {
    "slideshow": {
     "slide_type": "slide"
    }
   },
   "source": [
    "# Rerun simulation"
   ]
  },
  {
   "cell_type": "code",
   "execution_count": 36,
   "metadata": {
    "slideshow": {
     "slide_type": "fragment"
    }
   },
   "outputs": [
    {
     "name": "stdout",
     "output_type": "stream",
     "text": [
      "0s\n",
      "0s\n",
      "\n",
      "Running simulation for 710.0 ms...\n",
      "0.1s\n",
      "0.1s\n",
      "0.2s\n",
      "0.2s\n",
      "0.3s\n",
      "0.3s\n",
      "0.4s\n",
      "0.4s\n",
      "0.5s\n",
      "0.5s\n",
      "0.6s\n",
      "0.6s\n",
      "0.7s\n",
      "0.7s\n",
      "  Done; run time = 99.09 s; real-time ratio: 0.01.\n",
      "\n",
      "Gathering data...\n",
      "  Done; gather time = 3.03 s.\n",
      "\n",
      "Analyzing...\n",
      "  Cells: 1088\n",
      "  Connections: 53580 (49.25 per cell)\n",
      "  Synaptic contacts: 189980 (174.61 per cell)\n",
      "  Spikes: 4143 (5.36 Hz)\n",
      "   L2Basket : 15.091 Hz\n",
      "   L2Pyr : 16.127 Hz\n",
      "   L5Basket : 21.368 Hz\n",
      "   L5Pyr : 25.521 Hz\n",
      "   extRhythmicProximal : 197.183 Hz\n",
      "   extRhythmicDistal : 197.183 Hz\n",
      "   evokedProximal_1_L2Basket : 0.000 Hz\n",
      "   evokedProximal_1_L2Pyr : 0.000 Hz\n",
      "   evokedProximal_1_L5Basket : 0.000 Hz\n",
      "   evokedProximal_1_L5Pyr : 0.000 Hz\n",
      "   evokedProximal_2_L2Basket : 0.000 Hz\n",
      "   evokedProximal_2_L2Pyr : 0.000 Hz\n",
      "   evokedProximal_2_L5Basket : 0.000 Hz\n",
      "   evokedProximal_2_L5Pyr : 0.000 Hz\n",
      "   evokedDistal_1_L2Basket : 0.000 Hz\n",
      "   evokedDistal_1_L2Pyr : 0.000 Hz\n",
      "   evokedDistal_1_L5Basket : 0.000 Hz\n",
      "   evokedDistal_1_L5Pyr : 0.000 Hz\n",
      "   extPoisson_L2Pyr : 0.000 Hz\n",
      "   extPoisson_L5Pyr : 0.000 Hz\n",
      "   extPoisson_L2Basket : 0.000 Hz\n",
      "   extPoisson_L5Basket : 0.000 Hz\n",
      "   extGauss_L2Pyr : 0.000 Hz\n",
      "   extGauss_L5Pyr : 0.000 Hz\n",
      "  Simulated time: 0.7 s; 1 workers\n",
      "  Run time: 99.09 s\n"
     ]
    }
   ],
   "source": [
    "sim.simulate()"
   ]
  },
  {
   "cell_type": "code",
   "execution_count": 37,
   "metadata": {
    "slideshow": {
     "slide_type": "slide"
    }
   },
   "outputs": [
    {
     "name": "stdout",
     "output_type": "stream",
     "text": [
      "Plotting interactive recorded cell traces ... cell\n",
      "Plotting interactive raster ...\n"
     ]
    },
    {
     "name": "stderr",
     "output_type": "stream",
     "text": [
      "BokehDeprecationWarning: 'legend' keyword is deprecated, use explicit 'legend_label', 'legend_field', or 'legend_group' keywords instead\n",
      "BokehDeprecationWarning: 'legend' keyword is deprecated, use explicit 'legend_label', 'legend_field', or 'legend_group' keywords instead\n",
      "BokehDeprecationWarning: 'legend' keyword is deprecated, use explicit 'legend_label', 'legend_field', or 'legend_group' keywords instead\n",
      "BokehDeprecationWarning: 'legend' keyword is deprecated, use explicit 'legend_label', 'legend_field', or 'legend_group' keywords instead\n"
     ]
    },
    {
     "name": "stdout",
     "output_type": "stream",
     "text": [
      "Plotting interactive spike histogram...\n",
      "[Figure(id='1695', ...)]\n"
     ]
    },
    {
     "name": "stderr",
     "output_type": "stream",
     "text": [
      "BokehDeprecationWarning: 'legend' keyword is deprecated, use explicit 'legend_label', 'legend_field', or 'legend_group' keywords instead\n",
      "BokehDeprecationWarning: 'legend' keyword is deprecated, use explicit 'legend_label', 'legend_field', or 'legend_group' keywords instead\n",
      "BokehDeprecationWarning: 'legend' keyword is deprecated, use explicit 'legend_label', 'legend_field', or 'legend_group' keywords instead\n",
      "BokehDeprecationWarning: 'legend' keyword is deprecated, use explicit 'legend_label', 'legend_field', or 'legend_group' keywords instead\n"
     ]
    },
    {
     "data": {
      "image/png": "[encoded data removed]",
      "text/plain": [
       "<Figure size 432x288 with 2 Axes>"
      ]
     },
     "metadata": {
      "needs_background": "light"
     },
     "output_type": "display_data"
    },
    {
     "name": "stdout",
     "output_type": "stream",
     "text": [
      "Plotting connectivity matrix...\n"
     ]
    },
    {
     "data": {
      "image/png": "[encoded data removed]",
      "text/plain": [
       "<Figure size 720x720 with 2 Axes>"
      ]
     },
     "metadata": {
      "needs_background": "light"
     },
     "output_type": "display_data"
    },
    {
     "name": "stdout",
     "output_type": "stream",
     "text": [
      "  Done; plotting time = 7.50 s\n",
      "\n",
      "End time:  2020-03-17 12:16:44.732546\n"
     ]
    }
   ],
   "source": [
    "sim.analysis.plotData()"
   ]
  },
  {
   "cell_type": "code",
   "execution_count": 38,
   "metadata": {
    "slideshow": {
     "slide_type": "slide"
    }
   },
   "outputs": [],
   "source": [
    "from netpyne.batch import Batch\n",
    "import numpy as np\n",
    "\n",
    "def runBatch(b, label, setup='mpi_bulletin'):\n",
    "\n",
    "    b.batchLabel = label\n",
    "    b.saveFolder = 'data/'+b.batchLabel\n",
    "    b.method = 'grid'\n",
    "\n",
    "    if setup == 'mpi_bulletin':\n",
    "        b.runCfg = {'type': 'mpi_bulletin', \n",
    "                    'script': 'init.py', \n",
    "                    'skip': True}\n",
    "                    \n",
    "    b.run() # run batch"
   ]
  },
  {
   "cell_type": "code",
   "execution_count": 39,
   "metadata": {
    "slideshow": {
     "slide_type": "fragment"
    }
   },
   "outputs": [],
   "source": [
    "# set params \n",
    "params = {'input_prox_A_weight_L5Pyr_ampa': [5.4e-5, 40e-4],\n",
    "          'input_prox_A_weight_L5Pyr_nmda': [5.4e-5, 40e-4]}\n"
   ]
  },
  {
   "cell_type": "code",
   "execution_count": 40,
   "metadata": {
    "slideshow": {
     "slide_type": "fragment"
    }
   },
   "outputs": [],
   "source": [
    "# create netpyne Batch object\n",
    "b = Batch(params=params)"
   ]
  },
  {
   "cell_type": "code",
   "execution_count": 41,
   "metadata": {
    "slideshow": {
     "slide_type": "slide"
    }
   },
   "outputs": [
    {
     "name": "stdout",
     "output_type": "stream",
     "text": [
      "Saving batch to data/input_prox_A_weight/input_prox_A_weight_batch.json ... \n",
      "(0, 0) (5.4e-05, 5.4e-05)\n",
      "input_prox_A_weight_L5Pyr_ampa = 5.4e-05\n",
      "input_prox_A_weight_L5Pyr_nmda = 5.4e-05\n",
      "Saving simConfig to data/input_prox_A_weight/input_prox_A_weight_0_0_cfg.json ... \n",
      "Submitting job  data/input_prox_A_weight/input_prox_A_weight_0_0\n",
      "(0, 1) (5.4e-05, 0.004)\n",
      "input_prox_A_weight_L5Pyr_ampa = 5.4e-05\n",
      "input_prox_A_weight_L5Pyr_nmda = 0.004\n",
      "Saving simConfig to data/input_prox_A_weight/input_prox_A_weight_0_1_cfg.json ... \n",
      "Submitting job  data/input_prox_A_weight/input_prox_A_weight_0_1\n",
      "(1, 0) (0.004, 5.4e-05)\n",
      "input_prox_A_weight_L5Pyr_ampa = 0.004\n",
      "input_prox_A_weight_L5Pyr_nmda = 5.4e-05\n",
      "Saving simConfig to data/input_prox_A_weight/input_prox_A_weight_1_0_cfg.json ... \n",
      "Submitting job  data/input_prox_A_weight/input_prox_A_weight_1_0\n",
      "(1, 1) (0.004, 0.004)\n",
      "input_prox_A_weight_L5Pyr_ampa = 0.004\n",
      "input_prox_A_weight_L5Pyr_nmda = 0.004\n",
      "Saving simConfig to data/input_prox_A_weight/input_prox_A_weight_1_1_cfg.json ... \n",
      "Submitting job  data/input_prox_A_weight/input_prox_A_weight_1_1\n",
      "--------------------------------------------------------------------------------\n",
      "   Finished submitting jobs for grid parameter exploration   \n",
      "--------------------------------------------------------------------------------\n",
      "\n",
      "Job in rank id:  0\n",
      "nrniv init.py simConfig=data/input_prox_A_weight/input_prox_A_weight_0_0_cfg.json netParams=data/input_prox_A_weight/input_prox_A_weight_netParams.py\n",
      "\n",
      "\n",
      "Reading command line arguments using syntax: python file.py [simConfig=filepath] [netParams=filepath]\n",
      "Loading file data/input_prox_A_weight/input_prox_A_weight_0_0_cfg.json ... \n",
      "Loading simConfig...\n",
      "Importing netParams from data/input_prox_A_weight/input_prox_A_weight_netParams.py\n",
      "\n",
      "Start time:  2020-03-17 12:16:50.681347\n",
      "\n",
      "Creating network of 24 cell populations on 1 hosts...\n",
      "  Number of cells on node 0: 1088 \n",
      "  Done; cell creation time = 0.78 s.\n",
      "Making connections...\n",
      "  Number of connections on node 0: 53580 \n",
      "  Number of synaptic contacts on node 0: 189980 \n",
      "  Done; cell connection time = 6.69 s.\n",
      "Adding stims...\n",
      "  Number of stims on node 0: 270 \n",
      "  Done; cell stims creation time = 0.01 s.\n",
      "Recording 4 traces of 1 types on node 0\n",
      "0s\n",
      "\n",
      "Running simulation for 710.0 ms...\n",
      "0.1s\n",
      "0.2s\n",
      "0.3s\n",
      "0.4s\n",
      "0.5s\n",
      "0.6s\n",
      "0.7s\n",
      "  Done; run time = 95.18 s; real-time ratio: 0.01.\n",
      "\n",
      "Gathering data...\n",
      "  Done; gather time = 3.17 s.\n",
      "\n",
      "Analyzing...\n",
      "  Cells: 1088\n",
      "  Connections: 53580 (49.25 per cell)\n",
      "  Synaptic contacts: 189980 (174.61 per cell)\n",
      "  Spikes: 280 (0.36 Hz)\n",
      "   L2Basket : 0.000 Hz\n",
      "   L2Pyr : 0.000 Hz\n",
      "   L5Basket : 0.000 Hz\n",
      "   L5Pyr : 0.000 Hz\n",
      "   extRhythmicProximal : 197.183 Hz\n",
      "   extRhythmicDistal : 197.183 Hz\n",
      "   evokedProximal_1_L2Basket : 0.000 Hz\n",
      "   evokedProximal_1_L2Pyr : 0.000 Hz\n",
      "   evokedProximal_1_L5Basket : 0.000 Hz\n",
      "   evokedProximal_1_L5Pyr : 0.000 Hz\n",
      "   evokedProximal_2_L2Basket : 0.000 Hz\n",
      "   evokedProximal_2_L2Pyr : 0.000 Hz\n",
      "   evokedProximal_2_L5Basket : 0.000 Hz\n",
      "   evokedProximal_2_L5Pyr : 0.000 Hz\n",
      "   evokedDistal_1_L2Basket : 0.000 Hz\n",
      "   evokedDistal_1_L2Pyr : 0.000 Hz\n",
      "   evokedDistal_1_L5Basket : 0.000 Hz\n",
      "   evokedDistal_1_L5Pyr : 0.000 Hz\n",
      "   extPoisson_L2Pyr : 0.000 Hz\n",
      "   extPoisson_L5Pyr : 0.000 Hz\n",
      "   extPoisson_L2Basket : 0.000 Hz\n",
      "   extPoisson_L5Basket : 0.000 Hz\n",
      "   extGauss_L2Pyr : 0.000 Hz\n",
      "   extGauss_L5Pyr : 0.000 Hz\n",
      "  Simulated time: 0.7 s; 1 workers\n",
      "  Run time: 95.18 s\n",
      "  Done; saving time = 0.03 s.\n",
      "Figure(640x480)\n",
      "Plotting interactive raster ...\n",
      "No spikes available to plot raster\n",
      "Plotting interactive spike histogram...\n",
      "[Figure(id='1741', ...)]\n",
      "Plotting interactive recorded cell traces ... cell\n",
      "Plotting connectivity matrix...\n",
      "Figure(1000x1000)\n",
      "  Done; plotting time = 6.36 s\n",
      "\n",
      "Total time = 112.25 s\n",
      "\n",
      "End time:  2020-03-17 12:18:42.927104\n",
      "\n",
      "\n",
      "Job in rank id:  0\n",
      "nrniv init.py simConfig=data/input_prox_A_weight/input_prox_A_weight_0_1_cfg.json netParams=data/input_prox_A_weight/input_prox_A_weight_netParams.py\n",
      "\n",
      "\n",
      "Reading command line arguments using syntax: python file.py [simConfig=filepath] [netParams=filepath]\n",
      "Loading file data/input_prox_A_weight/input_prox_A_weight_0_1_cfg.json ... \n",
      "Loading simConfig...\n",
      "Importing netParams from data/input_prox_A_weight/input_prox_A_weight_netParams.py\n",
      "\n",
      "Start time:  2020-03-17 12:18:46.253863\n",
      "\n",
      "Creating network of 24 cell populations on 1 hosts...\n",
      "  Number of cells on node 0: 1088 \n",
      "  Done; cell creation time = 0.76 s.\n",
      "Making connections...\n",
      "  Number of connections on node 0: 53580 \n",
      "  Number of synaptic contacts on node 0: 189980 \n",
      "  Done; cell connection time = 6.71 s.\n",
      "Adding stims...\n",
      "  Number of stims on node 0: 270 \n",
      "  Done; cell stims creation time = 0.01 s.\n",
      "Recording 4 traces of 1 types on node 0\n",
      "0s\n",
      "\n",
      "Running simulation for 710.0 ms...\n",
      "0.1s\n",
      "0.2s\n",
      "0.3s\n",
      "0.4s\n",
      "0.5s\n",
      "0.6s\n",
      "0.7s\n",
      "  Done; run time = 95.33 s; real-time ratio: 0.01.\n",
      "\n",
      "Gathering data...\n",
      "  Done; gather time = 3.23 s.\n",
      "\n",
      "Analyzing...\n",
      "  Cells: 1088\n",
      "  Connections: 53580 (49.25 per cell)\n",
      "  Synaptic contacts: 189980 (174.61 per cell)\n",
      "  Spikes: 280 (0.36 Hz)\n",
      "   L2Basket : 0.000 Hz\n",
      "   L2Pyr : 0.000 Hz\n",
      "   L5Basket : 0.000 Hz\n",
      "   L5Pyr : 0.000 Hz\n",
      "   extRhythmicProximal : 197.183 Hz\n",
      "   extRhythmicDistal : 197.183 Hz\n",
      "   evokedProximal_1_L2Basket : 0.000 Hz\n",
      "   evokedProximal_1_L2Pyr : 0.000 Hz\n",
      "   evokedProximal_1_L5Basket : 0.000 Hz\n",
      "   evokedProximal_1_L5Pyr : 0.000 Hz\n",
      "   evokedProximal_2_L2Basket : 0.000 Hz\n",
      "   evokedProximal_2_L2Pyr : 0.000 Hz\n",
      "   evokedProximal_2_L5Basket : 0.000 Hz\n",
      "   evokedProximal_2_L5Pyr : 0.000 Hz\n",
      "   evokedDistal_1_L2Basket : 0.000 Hz\n",
      "   evokedDistal_1_L2Pyr : 0.000 Hz\n",
      "   evokedDistal_1_L5Basket : 0.000 Hz\n",
      "   evokedDistal_1_L5Pyr : 0.000 Hz\n",
      "   extPoisson_L2Pyr : 0.000 Hz\n",
      "   extPoisson_L5Pyr : 0.000 Hz\n",
      "   extPoisson_L2Basket : 0.000 Hz\n",
      "   extPoisson_L5Basket : 0.000 Hz\n",
      "   extGauss_L2Pyr : 0.000 Hz\n",
      "   extGauss_L5Pyr : 0.000 Hz\n",
      "  Simulated time: 0.7 s; 1 workers\n",
      "  Run time: 95.33 s\n",
      "  Done; saving time = 0.02 s.\n",
      "Figure(640x480)\n",
      "Plotting interactive raster ...\n",
      "No spikes available to plot raster\n",
      "Plotting interactive spike histogram...\n",
      "[Figure(id='1741', ...)]\n",
      "Plotting interactive recorded cell traces ... cell\n",
      "Plotting connectivity matrix...\n",
      "Figure(1000x1000)\n",
      "  Done; plotting time = 6.48 s\n",
      "\n",
      "Total time = 112.56 s\n",
      "\n",
      "End time:  2020-03-17 12:20:38.809298\n",
      "\n",
      "\n",
      "Job in rank id:  0\n",
      "nrniv init.py simConfig=data/input_prox_A_weight/input_prox_A_weight_1_0_cfg.json netParams=data/input_prox_A_weight/input_prox_A_weight_netParams.py\n",
      "\n",
      "\n",
      "Reading command line arguments using syntax: python file.py [simConfig=filepath] [netParams=filepath]\n",
      "Loading file data/input_prox_A_weight/input_prox_A_weight_1_0_cfg.json ... \n",
      "Loading simConfig...\n",
      "Importing netParams from data/input_prox_A_weight/input_prox_A_weight_netParams.py\n",
      "\n",
      "Start time:  2020-03-17 12:20:42.432493\n",
      "\n",
      "Creating network of 24 cell populations on 1 hosts...\n",
      "  Number of cells on node 0: 1088 \n",
      "  Done; cell creation time = 0.75 s.\n",
      "Making connections...\n",
      "  Number of connections on node 0: 53580 \n",
      "  Number of synaptic contacts on node 0: 189980 \n",
      "  Done; cell connection time = 6.74 s.\n",
      "Adding stims...\n",
      "  Number of stims on node 0: 270 \n",
      "  Done; cell stims creation time = 0.01 s.\n",
      "Recording 4 traces of 1 types on node 0\n",
      "0s\n",
      "\n",
      "Running simulation for 710.0 ms...\n",
      "0.1s\n",
      "0.2s\n",
      "0.3s\n",
      "0.4s\n",
      "0.5s\n",
      "0.6s\n",
      "0.7s\n",
      "  Done; run time = 91.29 s; real-time ratio: 0.01.\n",
      "\n",
      "Gathering data...\n",
      "  Done; gather time = 3.10 s.\n",
      "\n",
      "Analyzing...\n",
      "  Cells: 1088\n",
      "  Connections: 53580 (49.25 per cell)\n",
      "  Synaptic contacts: 189980 (174.61 per cell)\n",
      "  Spikes: 280 (0.36 Hz)\n",
      "   L2Basket : 0.000 Hz\n",
      "   L2Pyr : 0.000 Hz\n",
      "   L5Basket : 0.000 Hz\n",
      "   L5Pyr : 0.000 Hz\n",
      "   extRhythmicProximal : 197.183 Hz\n",
      "   extRhythmicDistal : 197.183 Hz\n",
      "   evokedProximal_1_L2Basket : 0.000 Hz\n",
      "   evokedProximal_1_L2Pyr : 0.000 Hz\n",
      "   evokedProximal_1_L5Basket : 0.000 Hz\n",
      "   evokedProximal_1_L5Pyr : 0.000 Hz\n",
      "   evokedProximal_2_L2Basket : 0.000 Hz\n",
      "   evokedProximal_2_L2Pyr : 0.000 Hz\n",
      "   evokedProximal_2_L5Basket : 0.000 Hz\n",
      "   evokedProximal_2_L5Pyr : 0.000 Hz\n",
      "   evokedDistal_1_L2Basket : 0.000 Hz\n",
      "   evokedDistal_1_L2Pyr : 0.000 Hz\n",
      "   evokedDistal_1_L5Basket : 0.000 Hz\n",
      "   evokedDistal_1_L5Pyr : 0.000 Hz\n",
      "   extPoisson_L2Pyr : 0.000 Hz\n",
      "   extPoisson_L5Pyr : 0.000 Hz\n",
      "   extPoisson_L2Basket : 0.000 Hz\n",
      "   extPoisson_L5Basket : 0.000 Hz\n",
      "   extGauss_L2Pyr : 0.000 Hz\n",
      "   extGauss_L5Pyr : 0.000 Hz\n",
      "  Simulated time: 0.7 s; 1 workers\n",
      "  Run time: 91.29 s\n",
      "  Done; saving time = 0.02 s.\n",
      "Figure(640x480)\n",
      "Plotting interactive raster ...\n",
      "No spikes available to plot raster\n",
      "Plotting interactive spike histogram...\n",
      "[Figure(id='1741', ...)]\n",
      "Plotting interactive recorded cell traces ... cell\n",
      "Plotting connectivity matrix...\n",
      "Figure(1000x1000)\n",
      "  Done; plotting time = 6.57 s\n",
      "\n",
      "Total time = 108.50 s\n",
      "\n",
      "End time:  2020-03-17 12:22:30.936445\n",
      "\n"
     ]
    },
    {
     "name": "stdout",
     "output_type": "stream",
     "text": [
      "\n",
      "Job in rank id:  0\n",
      "nrniv init.py simConfig=data/input_prox_A_weight/input_prox_A_weight_1_1_cfg.json netParams=data/input_prox_A_weight/input_prox_A_weight_netParams.py\n",
      "\n",
      "\n",
      "Reading command line arguments using syntax: python file.py [simConfig=filepath] [netParams=filepath]\n",
      "Loading file data/input_prox_A_weight/input_prox_A_weight_1_1_cfg.json ... \n",
      "Loading simConfig...\n",
      "Importing netParams from data/input_prox_A_weight/input_prox_A_weight_netParams.py\n",
      "\n",
      "Start time:  2020-03-17 12:22:34.298023\n",
      "\n",
      "Creating network of 24 cell populations on 1 hosts...\n",
      "  Number of cells on node 0: 1088 \n",
      "  Done; cell creation time = 0.76 s.\n",
      "Making connections...\n",
      "  Number of connections on node 0: 53580 \n",
      "  Number of synaptic contacts on node 0: 189980 \n",
      "  Done; cell connection time = 6.57 s.\n",
      "Adding stims...\n",
      "  Number of stims on node 0: 270 \n",
      "  Done; cell stims creation time = 0.01 s.\n",
      "Recording 4 traces of 1 types on node 0\n",
      "0s\n",
      "\n",
      "Running simulation for 710.0 ms...\n",
      "0.1s\n",
      "0.2s\n",
      "0.3s\n",
      "0.4s\n",
      "0.5s\n",
      "0.6s\n",
      "0.7s\n",
      "  Done; run time = 93.98 s; real-time ratio: 0.01.\n",
      "\n",
      "Gathering data...\n",
      "  Done; gather time = 3.13 s.\n",
      "\n",
      "Analyzing...\n",
      "  Cells: 1088\n",
      "  Connections: 53580 (49.25 per cell)\n",
      "  Synaptic contacts: 189980 (174.61 per cell)\n",
      "  Spikes: 280 (0.36 Hz)\n",
      "   L2Basket : 0.000 Hz\n",
      "   L2Pyr : 0.000 Hz\n",
      "   L5Basket : 0.000 Hz\n",
      "   L5Pyr : 0.000 Hz\n",
      "   extRhythmicProximal : 197.183 Hz\n",
      "   extRhythmicDistal : 197.183 Hz\n",
      "   evokedProximal_1_L2Basket : 0.000 Hz\n",
      "   evokedProximal_1_L2Pyr : 0.000 Hz\n",
      "   evokedProximal_1_L5Basket : 0.000 Hz\n",
      "   evokedProximal_1_L5Pyr : 0.000 Hz\n",
      "   evokedProximal_2_L2Basket : 0.000 Hz\n",
      "   evokedProximal_2_L2Pyr : 0.000 Hz\n",
      "   evokedProximal_2_L5Basket : 0.000 Hz\n",
      "   evokedProximal_2_L5Pyr : 0.000 Hz\n",
      "   evokedDistal_1_L2Basket : 0.000 Hz\n",
      "   evokedDistal_1_L2Pyr : 0.000 Hz\n",
      "   evokedDistal_1_L5Basket : 0.000 Hz\n",
      "   evokedDistal_1_L5Pyr : 0.000 Hz\n",
      "   extPoisson_L2Pyr : 0.000 Hz\n",
      "   extPoisson_L5Pyr : 0.000 Hz\n",
      "   extPoisson_L2Basket : 0.000 Hz\n",
      "   extPoisson_L5Basket : 0.000 Hz\n",
      "   extGauss_L2Pyr : 0.000 Hz\n",
      "   extGauss_L5Pyr : 0.000 Hz\n",
      "  Simulated time: 0.7 s; 1 workers\n",
      "  Run time: 93.98 s\n",
      "  Done; saving time = 0.03 s.\n",
      "Figure(640x480)\n",
      "Plotting interactive raster ...\n",
      "No spikes available to plot raster\n",
      "Plotting interactive spike histogram...\n",
      "[Figure(id='1741', ...)]\n",
      "Plotting interactive recorded cell traces ... cell\n",
      "Plotting connectivity matrix...\n",
      "Figure(1000x1000)\n",
      "  Done; plotting time = 6.56 s\n",
      "\n",
      "Total time = 111.05 s\n",
      "\n",
      "End time:  2020-03-17 12:24:25.347122\n",
      "\n"
     ]
    }
   ],
   "source": [
    "# submit batch\n",
    "runBatch(b, label='input_prox_A_weight', setup='mpi_bulletin')"
   ]
  }
 ],
 "metadata": {
  "celltoolbar": "Slideshow",
  "file_extension": ".py",
  "kernelspec": {
   "display_name": "Python 3.7.5 64-bit ('netpyne': conda)",
   "language": "python",
   "name": "python37564bitnetpyneconda5339d02ec31b4dea92d661bc2e62fec5"
  },
  "language_info": {
   "codemirror_mode": {
    "name": "ipython",
    "version": 3
   },
   "file_extension": ".py",
   "mimetype": "text/x-python",
   "name": "python",
   "nbconvert_exporter": "python",
   "pygments_lexer": "ipython3",
   "version": "3.7.5"
  },
  "mimetype": "text/x-python",
  "name": "python",
  "npconvert_exporter": "python",
  "pygments_lexer": "ipython3",
  "version": 3
 },
 "nbformat": 4,
 "nbformat_minor": 2
}
